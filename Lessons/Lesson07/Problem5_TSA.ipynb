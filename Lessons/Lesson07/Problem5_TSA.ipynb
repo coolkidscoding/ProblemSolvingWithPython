{
 "cells": [
  {
   "cell_type": "markdown",
   "metadata": {},
   "source": [
    "![](images/ckcslogo.png)"
   ]
  },
  {
   "cell_type": "markdown",
   "metadata": {},
   "source": [
    "### [Cool Kids Coding School](http://www.coolkidscodingschool.com)\n",
    "### Course: Problem Solving With Python\n",
    "### Lesson 7: Problem #5 - Time Series Analysis\n",
    "---"
   ]
  },
  {
   "cell_type": "markdown",
   "metadata": {},
   "source": [
    "### Overview\n",
    "- Go over syllabus objectives for today\n",
    "- Review: What is Time Series Analysis?\n",
    "- Discuss today's problem\n",
    "- Discuss solution strategy\n",
    "- Review homework"
   ]
  },
  {
   "cell_type": "markdown",
   "metadata": {},
   "source": [
    "### Section 1: Time Series Analysis"
   ]
  },
  {
   "cell_type": "markdown",
   "metadata": {},
   "source": [
    "#### 1.1 What is Time Series Analysis?\n",
    "\n",
    "A time series is a series of data points indexed (or listed or graphed) in time order. Most commonly, a time series is a sequence taken at successive equally spaced points in time (hour, or minute, or day, etc). Thus it is a sequence of discrete-time data. Examples of time series are heights of ocean tides, counts of sunspots, and the daily closing value of the Dow Jones Industrial Average or some other stock or security.\n",
    "\n",
    "Time series are very frequently plotted via line charts. Time series are used in statistics, signal processing, pattern recognition, econometrics, mathematical finance, weather forecasting, earthquake prediction, electroencephalography, control engineering, astronomy, communications engineering, and largely in any domain of applied science and engineering which involves temporal measurements. "
   ]
  },
  {
   "cell_type": "markdown",
   "metadata": {},
   "source": [
    "#### 1.2 Calculate the Mean:\n",
    "The mean is the same as the average.  Add all the values together and divide by the number of values.\n",
    "\n",
    "#### 1.3 Calculate the Median:\n",
    "The median is also the number that is halfway into the set. To find the median, the data should be arranged in order from least to greatest. If there is an even number of items in the data set, then the median is found by taking the mean (average) of the two middlemost numbers.\n",
    "\n",
    "#### 1.4 Calculate the Max/Min:\n",
    "Simply find the largest or smallest value in the time series.\n",
    "\n",
    "#### 1.5 Calculate the return on investment:\n",
    "The return on investment formula:\n",
    "\n",
    "ROI = (Current Value of Investment - Cost of Investment) / Cost of Investment\n",
    "\n",
    "In the above formula, \"Current Value of Investment” refers to the proceeds obtained from the sale of the investment of interest. Because ROI is measured as a percentage, it can be easily compared with returns from other investments, allowing one to measure a variety of types of investments against one another.\n"
   ]
  },
  {
   "cell_type": "markdown",
   "metadata": {},
   "source": [
    "### 2.0 Analyze a Stock Time Series"
   ]
  },
  {
   "cell_type": "markdown",
   "metadata": {},
   "source": [
    "I have downloaded two years of stock data for **AAPL**, **MSFT**, **GOOG**, and **AMZN**.  We are going to analyze this data and calculate several statistics on these time series.\n",
    "Specifically we are going to write code to calculate Mean, Median, Max/Min price, Moving Average, and ROI.\n",
    "I will provide the code to load this data into our program since that is out of scope of this assignment.  The function I have provided returns a list of tuples.  Each tuple returns the Date/Open/High/Low/Close/Volume"
   ]
  },
  {
   "cell_type": "markdown",
   "metadata": {},
   "source": [
    "### Section 3.0: Solution Strategy"
   ]
  },
  {
   "cell_type": "markdown",
   "metadata": {},
   "source": [
    "Think about some of the things we are going to need to solve this problem?  What \"tools\" do we have in our toolbox?\n",
    "\n",
    "+ loops\n",
    "+ if statements\n",
    "+ operators\n",
    "+ datetime package\n",
    "+ functions"
   ]
  },
  {
   "cell_type": "markdown",
   "metadata": {},
   "source": [
    "### Section 5: How would you put together a solution?"
   ]
  },
  {
   "cell_type": "markdown",
   "metadata": {},
   "source": [
    "Can you describe the solution strategy in words or on paper?  Tell me how you would start coding it?"
   ]
  },
  {
   "cell_type": "markdown",
   "metadata": {},
   "source": [
    "## Any Questions?\n",
    "---\n",
    "###### for any questions contact <hw_help@coolkidscodingschool.com>"
   ]
  }
 ],
 "metadata": {
  "kernelspec": {
   "display_name": "Python 3",
   "language": "python",
   "name": "python3"
  },
  "language_info": {
   "codemirror_mode": {
    "name": "ipython",
    "version": 3
   },
   "file_extension": ".py",
   "mimetype": "text/x-python",
   "name": "python",
   "nbconvert_exporter": "python",
   "pygments_lexer": "ipython3",
   "version": "3.6.4"
  }
 },
 "nbformat": 4,
 "nbformat_minor": 2
}
