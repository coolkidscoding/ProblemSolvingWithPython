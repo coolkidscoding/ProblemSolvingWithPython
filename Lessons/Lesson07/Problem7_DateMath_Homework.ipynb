{
 "cells": [
  {
   "cell_type": "markdown",
   "metadata": {},
   "source": [
    "![](images/ckcslogo.png)"
   ]
  },
  {
   "cell_type": "markdown",
   "metadata": {},
   "source": [
    "### [Cool Kids Coding School](http://www.coolkidscodingschool.com)\n",
    "### Course: Problem Solving With Python\n",
    "### Lesson 7: Problem#7 - Date Math Homework\n",
    "---"
   ]
  },
  {
   "cell_type": "markdown",
   "metadata": {},
   "source": [
    "### Question #1"
   ]
  },
  {
   "cell_type": "code",
   "execution_count": 2,
   "metadata": {},
   "outputs": [],
   "source": [
    "# Use what we learned in class today to answer the following date math questions\n",
    "\n",
    "# Question 1:\n",
    "# How many days have you been alive?\n",
    "\n",
    "# Question 2:\n",
    "# What day of the week were you born on?\n",
    "\n",
    "# Question 3:\n",
    "# In 10 years from now what day will your birtday fall on?\n",
    "\n",
    "# Question 4:\n",
    "# How many days do we have until the end of the year?\n",
    "\n",
    "# Question 5:\n",
    "# How many days are there between 4th of July and Thanksgiving (11/28/2019)?\n"
   ]
  },
  {
   "cell_type": "markdown",
   "metadata": {},
   "source": [
    "## Any Questions?\n",
    "---\n",
    "###### for any questions contact <hw_help@coolkidscodingschool.com>"
   ]
  }
 ],
 "metadata": {
  "kernelspec": {
   "display_name": "Python 3",
   "language": "python",
   "name": "python3"
  },
  "language_info": {
   "codemirror_mode": {
    "name": "ipython",
    "version": 3
   },
   "file_extension": ".py",
   "mimetype": "text/x-python",
   "name": "python",
   "nbconvert_exporter": "python",
   "pygments_lexer": "ipython3",
   "version": "3.6.4"
  }
 },
 "nbformat": 4,
 "nbformat_minor": 2
}
