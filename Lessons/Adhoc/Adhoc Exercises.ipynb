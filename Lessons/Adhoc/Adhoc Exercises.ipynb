{
 "cells": [
  {
   "cell_type": "markdown",
   "metadata": {},
   "source": [
    "![](images/ckcslogo.png)"
   ]
  },
  {
   "cell_type": "markdown",
   "metadata": {},
   "source": [
    "### [Cool Kids Coding School](http://www.coolkidscodingschool.com)\n",
    "### Course: Problem Solving With Python\n",
    "### Adhoc Lesson: Various Programming Exercises\n",
    "---"
   ]
  },
  {
   "cell_type": "markdown",
   "metadata": {},
   "source": [
    "### Exercise #1"
   ]
  },
  {
   "cell_type": "code",
   "execution_count": 2,
   "metadata": {},
   "outputs": [],
   "source": [
    "# In this exercise we are going to create a Magic 8 Ball program.\n",
    "# This program must satisfy the following requirements:\n",
    "## Take a question as an input from the user\n",
    "## Randomly select a different answer from the potential answers it knows\n",
    "## Reply to the users question with the answer it has selected\n",
    "## Exit the program when the user enters 'quit'\n"
   ]
  },
  {
   "cell_type": "markdown",
   "metadata": {},
   "source": [
    "### Exercise #2"
   ]
  },
  {
   "cell_type": "code",
   "execution_count": 3,
   "metadata": {},
   "outputs": [],
   "source": [
    "# In this exercise we are going to create a Rock, Paper, Scissor program.\n",
    "# This program must satisfy the following requirements:\n",
    "## Take an input from the user as to how many rounds we are going to play.\n",
    "## Take an input from the user either (R)ock, (P)aper, or (S)cissors.\n",
    "## Randomly select a response to the users selection.\n",
    "## Compare the user's answer to the computers answer and select a round winner.\n",
    "## Anounce a winner if we have played the required number of rounds\n",
    "## Exit the program when the user enters 'quit'\n"
   ]
  },
  {
   "cell_type": "markdown",
   "metadata": {},
   "source": [
    "## Any Questions?\n",
    "---\n",
    "###### for any questions contact <hw_help@coolkidscodingschool.com>"
   ]
  }
 ],
 "metadata": {
  "kernelspec": {
   "display_name": "Python 3",
   "language": "python",
   "name": "python3"
  },
  "language_info": {
   "codemirror_mode": {
    "name": "ipython",
    "version": 3
   },
   "file_extension": ".py",
   "mimetype": "text/x-python",
   "name": "python",
   "nbconvert_exporter": "python",
   "pygments_lexer": "ipython3",
   "version": "3.6.4"
  }
 },
 "nbformat": 4,
 "nbformat_minor": 2
}
