{
 "cells": [
  {
   "cell_type": "markdown",
   "metadata": {},
   "source": [
    "<div>\n",
    "\n",
    "<p>\n",
    "<img align=left src=\"images/ckcslogo.png\">\n",
    "</p>\n",
    "\n",
    "---\n",
    "\n",
    "<p>\n",
    "<H1 align=left><a href=\"http://www.coolkidscodingschool.com\">Cool Kids Coding School</a></H1>\n",
    "<H2 align=left>Course: <strong>Problem Solving with Python</strong></H1>\n",
    "<H3 align=left>Lesson 1: <strong>Introductions and Review</strong></H3>\n",
    "</p>\n",
    "\n",
    "</div>\n",
    "\n",
    "---"
   ]
  },
  {
   "cell_type": "markdown",
   "metadata": {},
   "source": [
    "### Overview\n",
    "- Welcome!\n",
    "- Go over syllabus objectives for today\n",
    "- Development Environment\n",
    "- Review: Variables and Operators\n",
    "- Review: Data Structures\n",
    "- Review homework framework"
   ]
  },
  {
   "cell_type": "markdown",
   "metadata": {},
   "source": [
    "## **Welcome!** \n",
    "\n",
    "In this course we are going to continue our journey towards Python Programming mastery.  Over the next 12 weeks we are not going to learn much more new material.  We are going to use this time to build on the skills we learned in the **_Introductory Python_** course but use them to solve problems.  Specifically the problems we are going to solve are going to be mathematical in nature.  We are going to start out reviewing some of the important concepts from last semester.  The first two classes will be review.  After we have properly reviewed we will focus on a new problem in each class.  we will learn how to take apart the problem and identify it's key parts.  Once that is done we will come up with a solution strategy and finally we will implement and check our answer."
   ]
  },
  {
   "cell_type": "markdown",
   "metadata": {},
   "source": [
    "### Review: Variables and Operators"
   ]
  },
  {
   "cell_type": "markdown",
   "metadata": {},
   "source": [
    "### Data Types\n",
    "+ Python supports several types of data:\n",
    "    + integer (int)\n",
    "    + decimal (float)\n",
    "    + characters aka string (str)\n",
    "    + boolean (bool)"
   ]
  },
  {
   "cell_type": "markdown",
   "metadata": {},
   "source": [
    "#### Integers\n",
    "Any set of only digits is considered an ***int***"
   ]
  },
  {
   "cell_type": "code",
   "execution_count": 69,
   "metadata": {},
   "outputs": [
    {
     "data": {
      "text/plain": [
       "12345678901234567890"
      ]
     },
     "execution_count": 69,
     "metadata": {},
     "output_type": "execute_result"
    }
   ],
   "source": [
    "12345678901234567890"
   ]
  },
  {
   "cell_type": "code",
   "execution_count": 70,
   "metadata": {},
   "outputs": [
    {
     "data": {
      "text/plain": [
       "int"
      ]
     },
     "execution_count": 70,
     "metadata": {},
     "output_type": "execute_result"
    }
   ],
   "source": [
    "type(123456789)"
   ]
  },
  {
   "cell_type": "markdown",
   "metadata": {},
   "source": [
    "#### Floating Point Numbers\n",
    "Any set of digits with a decimal point in it is considered a ***float***"
   ]
  },
  {
   "cell_type": "code",
   "execution_count": 71,
   "metadata": {},
   "outputs": [
    {
     "data": {
      "text/plain": [
       "123456.789"
      ]
     },
     "execution_count": 71,
     "metadata": {},
     "output_type": "execute_result"
    }
   ],
   "source": [
    "123456.789"
   ]
  },
  {
   "cell_type": "markdown",
   "metadata": {},
   "source": [
    "#### Character Strings\n",
    "Any series of characters, digits or other characters enclosed by quotes.  In python these are called ***str***."
   ]
  },
  {
   "cell_type": "code",
   "execution_count": 72,
   "metadata": {},
   "outputs": [
    {
     "data": {
      "text/plain": [
       "'hello'"
      ]
     },
     "execution_count": 72,
     "metadata": {},
     "output_type": "execute_result"
    }
   ],
   "source": [
    "'hello'"
   ]
  },
  {
   "cell_type": "code",
   "execution_count": 73,
   "metadata": {},
   "outputs": [
    {
     "data": {
      "text/plain": [
       "'goodbye'"
      ]
     },
     "execution_count": 73,
     "metadata": {},
     "output_type": "execute_result"
    }
   ],
   "source": [
    "\"goodbye\""
   ]
  },
  {
   "cell_type": "code",
   "execution_count": 74,
   "metadata": {},
   "outputs": [
    {
     "data": {
      "text/plain": [
       "'see you'"
      ]
     },
     "execution_count": 74,
     "metadata": {},
     "output_type": "execute_result"
    }
   ],
   "source": [
    "'''see you'''"
   ]
  },
  {
   "cell_type": "code",
   "execution_count": 75,
   "metadata": {},
   "outputs": [
    {
     "data": {
      "text/plain": [
       "'Hello, this is a really long string with alot of different kinds of chracters.  It contains letters, 1234, !@#$'"
      ]
     },
     "execution_count": 75,
     "metadata": {},
     "output_type": "execute_result"
    }
   ],
   "source": [
    "'Hello, this is a really long string with alot of different kinds of chracters.  It contains letters, 1234, !@#$'"
   ]
  },
  {
   "cell_type": "code",
   "execution_count": 76,
   "metadata": {},
   "outputs": [
    {
     "name": "stdout",
     "output_type": "stream",
     "text": [
      "<class 'str'>\n"
     ]
    }
   ],
   "source": [
    "print(type('this is a string'))"
   ]
  },
  {
   "cell_type": "markdown",
   "metadata": {},
   "source": [
    "#### Boolean Values\n",
    "There are two values associated with the boolean data type.  The values are either True or False.  In python their data type is **bool**. Boolean values can be manipulated in expressions that result in boolean results."
   ]
  },
  {
   "cell_type": "code",
   "execution_count": 77,
   "metadata": {},
   "outputs": [
    {
     "data": {
      "text/plain": [
       "True"
      ]
     },
     "execution_count": 77,
     "metadata": {},
     "output_type": "execute_result"
    }
   ],
   "source": [
    "True"
   ]
  },
  {
   "cell_type": "code",
   "execution_count": 78,
   "metadata": {},
   "outputs": [
    {
     "data": {
      "text/plain": [
       "False"
      ]
     },
     "execution_count": 78,
     "metadata": {},
     "output_type": "execute_result"
    }
   ],
   "source": [
    "False"
   ]
  },
  {
   "cell_type": "code",
   "execution_count": 79,
   "metadata": {},
   "outputs": [
    {
     "name": "stdout",
     "output_type": "stream",
     "text": [
      "<class 'bool'>\n"
     ]
    }
   ],
   "source": [
    "print(type(True))"
   ]
  },
  {
   "cell_type": "markdown",
   "metadata": {},
   "source": [
    "### Variables\n",
    "A variable is nothing more than a name attached to a value in memory."
   ]
  },
  {
   "cell_type": "code",
   "execution_count": 80,
   "metadata": {},
   "outputs": [],
   "source": [
    "this_is_a_variable = 100"
   ]
  },
  {
   "cell_type": "markdown",
   "metadata": {},
   "source": [
    "In python a variable cannot be used until it is assigned to.  "
   ]
  },
  {
   "cell_type": "code",
   "execution_count": 81,
   "metadata": {},
   "outputs": [
    {
     "data": {
      "text/plain": [
       "100"
      ]
     },
     "execution_count": 81,
     "metadata": {},
     "output_type": "execute_result"
    }
   ],
   "source": [
    "b"
   ]
  },
  {
   "cell_type": "markdown",
   "metadata": {},
   "source": [
    "Once assigned a variable points to a type.  This type, unlike other languages, can be changed at any time.  "
   ]
  },
  {
   "cell_type": "code",
   "execution_count": 82,
   "metadata": {},
   "outputs": [
    {
     "name": "stdout",
     "output_type": "stream",
     "text": [
      "2.5\n"
     ]
    }
   ],
   "source": [
    "variable = 2.5\n",
    "print(variable)"
   ]
  },
  {
   "cell_type": "code",
   "execution_count": 83,
   "metadata": {},
   "outputs": [
    {
     "name": "stdout",
     "output_type": "stream",
     "text": [
      "now I am a string\n"
     ]
    }
   ],
   "source": [
    "variable = 'now I am a string'\n",
    "print(variable)"
   ]
  },
  {
   "cell_type": "markdown",
   "metadata": {},
   "source": [
    "When you create a variable what you are doing is asking the computer to:\n",
    "+ allocate a piece of memory for your use \n",
    "+ then you are initializing that piece of memory\n",
    "+ then you are assigning that piece of memory a name"
   ]
  },
  {
   "cell_type": "code",
   "execution_count": 84,
   "metadata": {},
   "outputs": [
    {
     "name": "stdout",
     "output_type": "stream",
     "text": [
      "1 1\n",
      "94559842511360 94559842511360\n"
     ]
    }
   ],
   "source": [
    "b = 1\n",
    "c = b\n",
    "print(b, c)\n",
    "print(id(b), id(c))"
   ]
  },
  {
   "cell_type": "markdown",
   "metadata": {},
   "source": [
    "In the above statement we are creating the variable **b** then we are creating a different variable **c** that also points to **b**.  In the above statement there is only one integer created but it has two names.  You can see this by examining the value returned by the function ***id*** which returns the memory id of the value.  "
   ]
  },
  {
   "cell_type": "code",
   "execution_count": 85,
   "metadata": {},
   "outputs": [
    {
     "name": "stdout",
     "output_type": "stream",
     "text": [
      "100 1\n",
      "94559842514528 94559842511360\n"
     ]
    }
   ],
   "source": [
    "b = 100\n",
    "print(b, c)\n",
    "print(id(b), id(c))"
   ]
  },
  {
   "cell_type": "markdown",
   "metadata": {},
   "source": [
    "#### Variable Names\n",
    "Variable names can be anything you want, and as long as you want.  There are some restrictions to names:\n",
    "+ Variable names cannot start with a number\n",
    "+ Variable names cannot have any kind of puctuation marks in them\n",
    "+ Variable names cannot be restricted words\n",
    "+ Variable names can have an underscore"
   ]
  },
  {
   "cell_type": "code",
   "execution_count": 86,
   "metadata": {},
   "outputs": [
    {
     "ename": "SyntaxError",
     "evalue": "invalid token (<ipython-input-86-b998d494c100>, line 1)",
     "output_type": "error",
     "traceback": [
      "\u001b[0;36m  File \u001b[0;32m\"<ipython-input-86-b998d494c100>\"\u001b[0;36m, line \u001b[0;32m1\u001b[0m\n\u001b[0;31m    1_am_not_a_valid_variable = 0\u001b[0m\n\u001b[0m     ^\u001b[0m\n\u001b[0;31mSyntaxError\u001b[0m\u001b[0;31m:\u001b[0m invalid token\n"
     ]
    }
   ],
   "source": [
    "1_am_not_a_valid_variable = 0"
   ]
  },
  {
   "cell_type": "code",
   "execution_count": 87,
   "metadata": {},
   "outputs": [
    {
     "ename": "SyntaxError",
     "evalue": "invalid syntax (<ipython-input-87-178a5fce6ce2>, line 1)",
     "output_type": "error",
     "traceback": [
      "\u001b[0;36m  File \u001b[0;32m\"<ipython-input-87-178a5fce6ce2>\"\u001b[0;36m, line \u001b[0;32m1\u001b[0m\n\u001b[0;31m    neither_am_* = 0\u001b[0m\n\u001b[0m                 ^\u001b[0m\n\u001b[0;31mSyntaxError\u001b[0m\u001b[0;31m:\u001b[0m invalid syntax\n"
     ]
    }
   ],
   "source": [
    "neither_am_* = 0"
   ]
  },
  {
   "cell_type": "code",
   "execution_count": 89,
   "metadata": {},
   "outputs": [
    {
     "ename": "SyntaxError",
     "evalue": "invalid syntax (<ipython-input-89-5db8b0e12db5>, line 4)",
     "output_type": "error",
     "traceback": [
      "\u001b[0;36m  File \u001b[0;32m\"<ipython-input-89-5db8b0e12db5>\"\u001b[0;36m, line \u001b[0;32m4\u001b[0m\n\u001b[0;31m    yield = 0\u001b[0m\n\u001b[0m          ^\u001b[0m\n\u001b[0;31mSyntaxError\u001b[0m\u001b[0;31m:\u001b[0m invalid syntax\n"
     ]
    }
   ],
   "source": [
    "import keyword\n",
    "keyword.kwlist\n",
    "\n",
    "yield = 0"
   ]
  },
  {
   "cell_type": "code",
   "execution_count": null,
   "metadata": {},
   "outputs": [],
   "source": [
    "i_am_a_perfectly_valid_variable_name = 0"
   ]
  },
  {
   "cell_type": "markdown",
   "metadata": {},
   "source": [
    "The names you choose for your variables are very important, especially as your program grows.  Choose them wisely.  Which program below looks better to you?"
   ]
  },
  {
   "cell_type": "code",
   "execution_count": null,
   "metadata": {},
   "outputs": [],
   "source": [
    "import datetime\n",
    "x1 = datetime.date.today().year\n",
    "x2 = 1967\n",
    "x3 = x1 - x2\n",
    "print('your age is: ', x3)"
   ]
  },
  {
   "cell_type": "code",
   "execution_count": null,
   "metadata": {},
   "outputs": [],
   "source": [
    "import datetime\n",
    "current_year = datetime.date.today().year\n",
    "birth_year = 1967\n",
    "age = current_year - birth_year\n",
    "print('your age is: ', age)"
   ]
  },
  {
   "cell_type": "markdown",
   "metadata": {},
   "source": [
    "Variables are case sensitive."
   ]
  },
  {
   "cell_type": "code",
   "execution_count": null,
   "metadata": {},
   "outputs": [],
   "source": [
    "age = 51\n",
    "AGE = 52\n",
    "Age = 53\n",
    "print(age,AGE,Age)"
   ]
  },
  {
   "cell_type": "markdown",
   "metadata": {},
   "source": [
    "### Operators\n",
    "In python operators are computations that you apply to variables or constants.  The values that an operator is applied on are called **operands**.  Operators and operands are chained together to create **expressions**."
   ]
  },
  {
   "cell_type": "markdown",
   "metadata": {},
   "source": [
    "#### Arithmetic Operators"
   ]
  },
  {
   "cell_type": "code",
   "execution_count": 90,
   "metadata": {},
   "outputs": [
    {
     "name": "stdout",
     "output_type": "stream",
     "text": [
      "5\n",
      "-5\n",
      "15\n",
      "-5\n",
      "50\n",
      "0.5\n",
      "1\n",
      "3\n",
      "9765625\n"
     ]
    }
   ],
   "source": [
    "a = 5 # variable assignment\n",
    "b = 10 # variable assignment\n",
    "a + b - 5 # expression definition\n",
    "\n",
    "print(+a) # unary positive\n",
    "print(-a) # unary negative\n",
    "print(a + b)  # addition\n",
    "print(a - b) # subtraction\n",
    "print(a * b) # multiplication\n",
    "print(a / b) # division\n",
    "print(a % 2) # modulo (aka remainder)\n",
    "print(b // 3) # integer division\n",
    "print(a ** b) # exponentiation"
   ]
  },
  {
   "cell_type": "markdown",
   "metadata": {},
   "source": [
    "#### Comparison Operators\n",
    "These are operators that return a boolean result when applied."
   ]
  },
  {
   "cell_type": "markdown",
   "metadata": {},
   "source": [
    "print(a, b) \n",
    "print(a < b) # less than\n",
    "print(a <= a) # less than or equal\n",
    "print(a > b) # greater than\n",
    "print(a >= b) # greater than or equal\n",
    "print(a == b) # equal to\n",
    "print(a == a) # equal to\n",
    "print(a != b) # not equal to"
   ]
  },
  {
   "cell_type": "markdown",
   "metadata": {},
   "source": [
    "#### Logical Operators\n",
    "Logical operators return boolen results and can be applied to operands that are not only boolean."
   ]
  },
  {
   "cell_type": "code",
   "execution_count": 91,
   "metadata": {},
   "outputs": [
    {
     "name": "stdout",
     "output_type": "stream",
     "text": [
      "False\n",
      "False\n",
      "True\n"
     ]
    }
   ],
   "source": [
    "x = True \n",
    "y = False\n",
    "print(not x) # logically reverses the state of the boolean\n",
    "print(x and y) # logical and operation\n",
    "print(x or y) # logical or operation"
   ]
  },
  {
   "cell_type": "markdown",
   "metadata": {},
   "source": [
    "### Review: Data Structures"
   ]
  },
  {
   "cell_type": "markdown",
   "metadata": {},
   "source": [
    "### What is the motivation behind data structures?\n",
    "Variables so far are great.  We can store a single value in a variable.  What if we needed to store and manage alot of information? \n",
    "The government, for instance, needs to store the social security number for every person in the US.  Do you think t### Key points from last lesson\n",
    "+ There are four different data types we are going to deal with in this class\n",
    "    + int\n",
    "    + float\n",
    "    + str\n",
    "    + bool\n",
    "+ Variables are used to store data types.    \n",
    "+ Operators are used to modify and manipulate variables.\n",
    "+ There are several different types of operators.\n",
    "    + arithmetic operators\n",
    "    + comparison operatorshey have a program with 350 million variables?  That would be too difficult.  The maintenance on that program would be incredible!"
   ]
  },
  {
   "cell_type": "markdown",
   "metadata": {},
   "source": [
    "### Discuss what a data structure is?\n",
    "To solve this problem, Computer Scientists created the idea of **Data Structures**.  **Data structures** are programing components builtin to the language that can help you manage larger amounts of information in a program context.  We can use data structures to manage data that is logically related.  You use data structures in your daily life.  \n",
    "+ When you or someone from your family goes to the supermarket for grocery shopping many times they have a list of things they need to buy.\n",
    "+ When you are looking for a piece of information in a book you use the index or the table of contents to zoom into the page that has the information instead of looking through every page.\n",
    "+ When you filled out the student information sheet at the beginning of the course I asked you for all the information about you and I grouped that information together on one sheet."
   ]
  },
  {
   "cell_type": "markdown",
   "metadata": {},
   "source": [
    "### Different types of data structures\n",
    "\n",
    "There are many types of data structures.  The data structures that we will discuss are builtin to the language.  There are more advanced programming techniques where a computer scientist can define their own data structure as well.  We will learn about these in future courses.  The creation of custom data structures is the basis of **Object Oriented Programming**.\n",
    "\n",
    "#### Builtin Data Structures\n",
    "\n",
    "+ List\n",
    "+ Dict\n",
    "+ Tuple \n",
    "+ Set\n",
    "\n",
    "We are going to learn about each one in turn.\n",
    "\n",
    "#### List\n",
    "\n",
    "A **List** is an ordered data structure.  The order that data is added, is the order that they stay in, unless you change it.  A **List** can be created with data or without data.  Data can be added or removed.\n",
    "In Python a **List** and any other data structure"
   ]
  },
  {
   "cell_type": "markdown",
   "metadata": {},
   "source": [
    "##### Creating a List"
   ]
  },
  {
   "cell_type": "code",
   "execution_count": 92,
   "metadata": {},
   "outputs": [
    {
     "name": "stdout",
     "output_type": "stream",
     "text": [
      "[]\n",
      "[1, 2, 3, 4, 5]\n"
     ]
    }
   ],
   "source": [
    "# this is an empty list\n",
    "list_variable1 = []\n",
    "print(list_variable1)\n",
    "\n",
    "# this is a list with data in it\n",
    "list_variable2 = [1,2,3,4,5]\n",
    "print(list_variable2)"
   ]
  },
  {
   "cell_type": "markdown",
   "metadata": {},
   "source": [
    "In Python all data structures can hold any data type including other data structures."
   ]
  },
  {
   "cell_type": "code",
   "execution_count": 93,
   "metadata": {},
   "outputs": [
    {
     "name": "stdout",
     "output_type": "stream",
     "text": [
      "[1, 2, 3.14, 'hello', True]\n"
     ]
    }
   ],
   "source": [
    "# a list with different data types in it\n",
    "list_variable3 = [1, 2, 3.14, 'hello', True]\n",
    "print(list_variable3)"
   ]
  },
  {
   "cell_type": "code",
   "execution_count": 94,
   "metadata": {},
   "outputs": [
    {
     "name": "stdout",
     "output_type": "stream",
     "text": [
      "[1, 2, 5.7, 8.2, 10000.0, [4, 5, 6.7]]\n"
     ]
    }
   ],
   "source": [
    "# a list with another list in it\n",
    "list_variable3 = [1, 2, 5.7, 8.2, 1e4, [4,5,6.7]]\n",
    "print(list_variable3)"
   ]
  },
  {
   "cell_type": "markdown",
   "metadata": {},
   "source": [
    "#### Adding to an existing List"
   ]
  },
  {
   "cell_type": "code",
   "execution_count": 96,
   "metadata": {},
   "outputs": [
    {
     "name": "stdout",
     "output_type": "stream",
     "text": [
      "Before: []\n",
      "After: [1, 3.7, 1.6]\n"
     ]
    }
   ],
   "source": [
    "list_variable = []\n",
    "print('Before:', list_variable)\n",
    "list_variable.append(1)\n",
    "list_variable.append(3.7)\n",
    "list_variable.append(1.6)\n",
    "print('After:', list_variable)"
   ]
  },
  {
   "cell_type": "markdown",
   "metadata": {},
   "source": [
    "#### Accessing elements from a list\n",
    "In Python we can access a single element from a list, this is called indexing.  Indexes in Python are always 0 based.  They always start at 0.  The largest index is len() - 1."
   ]
  },
  {
   "cell_type": "code",
   "execution_count": 97,
   "metadata": {},
   "outputs": [
    {
     "name": "stdout",
     "output_type": "stream",
     "text": [
      "[1, 2, 3, 4, 5]\n",
      "1st element 1\n",
      "2nd element 2\n",
      "3rd element 3\n",
      "4th element 4\n",
      "5th element 5\n"
     ]
    },
    {
     "ename": "IndexError",
     "evalue": "list index out of range",
     "output_type": "error",
     "traceback": [
      "\u001b[0;31m---------------------------------------------------------------------------\u001b[0m",
      "\u001b[0;31mIndexError\u001b[0m                                Traceback (most recent call last)",
      "\u001b[0;32m<ipython-input-97-6f61b7842a5e>\u001b[0m in \u001b[0;36m<module>\u001b[0;34m()\u001b[0m\n\u001b[1;32m     17\u001b[0m \u001b[0;34m\u001b[0m\u001b[0m\n\u001b[1;32m     18\u001b[0m \u001b[0;31m# asking for an index that does not exist generates an error\u001b[0m\u001b[0;34m\u001b[0m\u001b[0;34m\u001b[0m\u001b[0m\n\u001b[0;32m---> 19\u001b[0;31m \u001b[0mprint\u001b[0m\u001b[0;34m(\u001b[0m\u001b[0;34m'10th element'\u001b[0m\u001b[0;34m,\u001b[0m \u001b[0mlist_variable2\u001b[0m\u001b[0;34m[\u001b[0m\u001b[0;36m9\u001b[0m\u001b[0;34m]\u001b[0m\u001b[0;34m)\u001b[0m\u001b[0;34m\u001b[0m\u001b[0m\n\u001b[0m",
      "\u001b[0;31mIndexError\u001b[0m: list index out of range"
     ]
    }
   ],
   "source": [
    "print(list_variable2)\n",
    "\n",
    "# get the 1st variable\n",
    "print('1st element', list_variable2[0])\n",
    "\n",
    "# get the 2nd variable\n",
    "print('2nd element', list_variable2[1])\n",
    "\n",
    "# get the 3rd variable\n",
    "print('3rd element', list_variable2[2])\n",
    "\n",
    "# get the 4th variable\n",
    "print('4th element', list_variable2[3])\n",
    "\n",
    "# get the 5th variable\n",
    "print('5th element', list_variable2[4])\n",
    "\n",
    "# asking for an index that does not exist generates an error\n",
    "print('10th element', list_variable2[9])"
   ]
  },
  {
   "cell_type": "markdown",
   "metadata": {},
   "source": [
    "Instead of extracting a single element we can also choose to extract multiple values.  This is called slicing.  "
   ]
  },
  {
   "cell_type": "code",
   "execution_count": 98,
   "metadata": {},
   "outputs": [
    {
     "name": "stdout",
     "output_type": "stream",
     "text": [
      "Initial List [1, 2, 3, 4, 5]\n",
      "1st - 2nd [1, 2]\n",
      "2nd - 4th [2, 3, 4]\n",
      "3rd - 5th [3, 4, 5]\n",
      "4th - end [4, 5]\n",
      "beginning - 3rd [1, 2, 3]\n"
     ]
    }
   ],
   "source": [
    "list_variable2 = [1,2,3,4,5]\n",
    "print('Initial List', list_variable2)\n",
    "# get the 1st thru the 2nd\n",
    "print('1st - 2nd', list_variable2[0:2])\n",
    "# get the 2nd thru the 4th\n",
    "print('2nd - 4th', list_variable2[1:4])\n",
    "# get the 3rd thru the 5th\n",
    "print('3rd - 5th', list_variable2[2:5])\n",
    "# get the 4th thru the end\n",
    "print('4th - end', list_variable2[3:])\n",
    "# get the beginning thru the 3rd\n",
    "print('beginning - 3rd', list_variable2[:3])"
   ]
  },
  {
   "cell_type": "markdown",
   "metadata": {},
   "source": [
    "#### Modifying an element in a List\n",
    "When we index or slice into a list we get access to the original list memory so we can modify the list using this syntax."
   ]
  },
  {
   "cell_type": "code",
   "execution_count": 99,
   "metadata": {},
   "outputs": [
    {
     "name": "stdout",
     "output_type": "stream",
     "text": [
      "After modifying a single element [1, 2, 10, 4, 5]\n",
      "After modifying a slice [1, 2, 10, 20, 21]\n"
     ]
    }
   ],
   "source": [
    "list_variable2 = [1,2,3,4,5]\n",
    "\n",
    "# modify an element in the list\n",
    "list_variable2[2] = 10\n",
    "print('After modifying a single element', list_variable2)\n",
    "\n",
    "# modify a slice in the list\n",
    "list_variable2[3:5] = [20,21]\n",
    "print('After modifying a slice', list_variable2)"
   ]
  },
  {
   "cell_type": "markdown",
   "metadata": {},
   "source": [
    "#### Searching through a List\n",
    "To search for an element in a list we use the builtin function **in**."
   ]
  },
  {
   "cell_type": "code",
   "execution_count": 100,
   "metadata": {},
   "outputs": [
    {
     "name": "stdout",
     "output_type": "stream",
     "text": [
      "True\n",
      "True\n",
      "False\n"
     ]
    }
   ],
   "source": [
    "list_variable2 = [1,2,3,4,5]\n",
    "\n",
    "# look for a 5\n",
    "print(5 in list_variable2)\n",
    "\n",
    "# look for a 3\n",
    "print(3 in list_variable2)\n",
    "\n",
    "# look for a 10\n",
    "print(10 in list_variable2)"
   ]
  },
  {
   "cell_type": "markdown",
   "metadata": {},
   "source": [
    "#### Dictionary\n",
    "A **Dictionary** is an unordered data structure.  The big difference between a dictionary and a list is the fact that the dictionary stores values based on keys.  When we store a value in a dictionary we use a key, when we want to retrieve it we use the same key.  Lookups and searches in a dictionary is optimized and much faster than they are in a list."
   ]
  },
  {
   "cell_type": "markdown",
   "metadata": {},
   "source": [
    "#### Creating a dictionary"
   ]
  },
  {
   "cell_type": "code",
   "execution_count": 101,
   "metadata": {},
   "outputs": [],
   "source": [
    "# an empty dictionary\n",
    "d1 = {}\n",
    "\n",
    "# a dictionary with some initial values\n",
    "d2 = {'one':1, 'two':2, 'three':3}"
   ]
  },
  {
   "cell_type": "markdown",
   "metadata": {},
   "source": [
    "#### Adding to a dictionary\n",
    "In order to add to a dictionary we have to provide the key that the value will be stored under.  If we use an existing key then the value will be overwritten.  If we use a new key then there will be a new value added."
   ]
  },
  {
   "cell_type": "code",
   "execution_count": 102,
   "metadata": {},
   "outputs": [
    {
     "name": "stdout",
     "output_type": "stream",
     "text": [
      "{'one': 1, 'two': 2, 'three': 3}\n",
      "{'one': 1, 'two': 10, 'three': 3, 'four': 4}\n"
     ]
    }
   ],
   "source": [
    "d1 = {'one':1, 'two':2, 'three':3}\n",
    "print(d1)\n",
    "\n",
    "# add a new key:value\n",
    "d1['four'] = 4\n",
    "\n",
    "# overwrite an existing key:value\n",
    "d1['two'] = 10\n",
    "\n",
    "print(d1)"
   ]
  },
  {
   "cell_type": "markdown",
   "metadata": {},
   "source": [
    "Just like in lists we can add any object to a dictionary.  "
   ]
  },
  {
   "cell_type": "code",
   "execution_count": 103,
   "metadata": {},
   "outputs": [
    {
     "name": "stdout",
     "output_type": "stream",
     "text": [
      "{'one': 1, 'two': 2, 'three': 3, 'list': [1, 2, 3, 4], 'dictionary': {1: 'one', 2: 'two', 3: 'three'}}\n"
     ]
    }
   ],
   "source": [
    "d1 = {'one':1, 'two':2, 'three':3}\n",
    "\n",
    "# add a list\n",
    "d1['list'] = [1,2,3,4]\n",
    "\n",
    "# add a dictionary\n",
    "d1['dictionary'] = {1:'one', 2:'two', 3:'three'}\n",
    "\n",
    "print(d1)"
   ]
  },
  {
   "cell_type": "markdown",
   "metadata": {},
   "source": [
    "#### Other Operations"
   ]
  },
  {
   "cell_type": "code",
   "execution_count": 104,
   "metadata": {},
   "outputs": [
    {
     "name": "stdout",
     "output_type": "stream",
     "text": [
      "5\n",
      "dict_keys(['one', 'two', 'three', 'list', 'dictionary'])\n",
      "dict_values([1, 2, 3, [1, 2, 3, 4], {1: 'one', 2: 'two', 3: 'three'}])\n",
      "dict_items([('one', 1), ('two', 2), ('three', 3), ('list', [1, 2, 3, 4]), ('dictionary', {1: 'one', 2: 'two', 3: 'three'})])\n"
     ]
    }
   ],
   "source": [
    "# getting the number of elements in a dictionary\n",
    "print(len(d1))\n",
    "\n",
    "# getting the keys of a dictionary\n",
    "print(d1.keys())\n",
    "\n",
    "# getting the values of a dictionary\n",
    "print(d1.values())\n",
    "\n",
    "# getting the keys and values of dictionary as a pair (aka Tuple)\n",
    "print(d1.items())"
   ]
  },
  {
   "cell_type": "markdown",
   "metadata": {},
   "source": [
    "#### Accessing elements from a dictionary\n",
    "Elements in a dictionary need to be accessed by key.  There is no slicing in a dictionary."
   ]
  },
  {
   "cell_type": "code",
   "execution_count": 105,
   "metadata": {},
   "outputs": [
    {
     "name": "stdout",
     "output_type": "stream",
     "text": [
      "{'one': 1, 'two': 2, 'three': 3}\n",
      "one 1\n",
      "two 2\n"
     ]
    }
   ],
   "source": [
    "d1 = {'one':1, 'two':2, 'three':3}\n",
    "print(d1)\n",
    "\n",
    "# get the value with the key 'one'\n",
    "print('one', d1['one'])\n",
    "\n",
    "# get the value with the key 'two'\n",
    "print('two', d1['two'])"
   ]
  },
  {
   "cell_type": "markdown",
   "metadata": {},
   "source": [
    "#### Modifying an elelement in a dictionary\n",
    "We discussed it a bit above.  To modify an element, just use an existing key."
   ]
  },
  {
   "cell_type": "code",
   "execution_count": 106,
   "metadata": {},
   "outputs": [
    {
     "name": "stdout",
     "output_type": "stream",
     "text": [
      "{'one': 1, 'two': 2, 'three': 3}\n",
      "{'one': 100, 'three': 3}\n"
     ]
    }
   ],
   "source": [
    "d1 = {'one':1, 'two':2, 'three':3}\n",
    "print(d1)\n",
    "\n",
    "d1['one'] = 100\n",
    "del d1['two']\n",
    "\n",
    "print(d1)"
   ]
  },
  {
   "cell_type": "markdown",
   "metadata": {},
   "source": [
    "#### Searching through a dictionary\n",
    "To search through a dictionary we use a similar statement as in a list."
   ]
  },
  {
   "cell_type": "code",
   "execution_count": 107,
   "metadata": {},
   "outputs": [
    {
     "name": "stdout",
     "output_type": "stream",
     "text": [
      "Look for one True\n",
      "Look for two True\n",
      "Look for four False\n"
     ]
    }
   ],
   "source": [
    "d1 = {'one':1, 'two':2, 'three':3}\n",
    "\n",
    "print('Look for one', 'one' in d1)\n",
    "print('Look for two', 'two' in d1)\n",
    "print('Look for four', 'four' in d1)"
   ]
  },
  {
   "cell_type": "markdown",
   "metadata": {},
   "source": [
    "## Any Questions?\n",
    "---\n",
    "###### for any questions contact <hw_help@coolkidscodingschool.com>"
   ]
  }
 ],
 "metadata": {
  "kernelspec": {
   "display_name": "Python 3",
   "language": "python",
   "name": "python3"
  },
  "language_info": {
   "codemirror_mode": {
    "name": "ipython",
    "version": 3
   },
   "file_extension": ".py",
   "mimetype": "text/x-python",
   "name": "python",
   "nbconvert_exporter": "python",
   "pygments_lexer": "ipython3",
   "version": "3.6.4"
  }
 },
 "nbformat": 4,
 "nbformat_minor": 2
}