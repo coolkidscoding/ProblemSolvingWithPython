{
 "cells": [
  {
   "cell_type": "markdown",
   "metadata": {},
   "source": [
    "![](images/ckcslogo.png)"
   ]
  },
  {
   "cell_type": "markdown",
   "metadata": {},
   "source": [
    "### [Cool Kids Coding School](http://www.coolkidscodingschool.com)\n",
    "### Course: Problem Solving With Python\n",
    "### Lesson 8: Problem#6 - Calculating Pi Using Monte Carlo Homework\n",
    "---"
   ]
  },
  {
   "cell_type": "markdown",
   "metadata": {},
   "source": [
    "### Question #1"
   ]
  },
  {
   "cell_type": "code",
   "execution_count": 1,
   "metadata": {
    "collapsed": true
   },
   "outputs": [],
   "source": [
    "# Modify the in class work to finish the statistics we did not finish in class.\n",
    "# When complete we will have written code to do the following:\n",
    "# - Calculate mean\n",
    "# - Calculate max/min (ie range)\n",
    "# - Calculate median\n",
    "# - Calculate return on investment\n",
    "\n",
    "# Extra Credit: Modify the in class work to calculate the standard deviation of a selected time series.  \n",
    "# The standard deviation is a measure of how far away from the mean that the values lie.  \n",
    "\n",
    "# Specifically \n",
    "# Step 1: Find the mean.\n",
    "# Step 2: For each data point, find the square of its distance to the mean.\n",
    "# Step 3: Sum the values from Step 2.\n",
    "# Step 4: Divide by the number of data points.\n",
    "# Step 5: Take the square root.\n",
    "\n",
    "# You should create a function called CalcStdDeviation that will calculate this value according to the algorithm above.\n"
   ]
  },
  {
   "cell_type": "markdown",
   "metadata": {},
   "source": [
    "## Any Questions?\n",
    "---\n",
    "###### for any questions contact <jimmy@coolkidscodingschool.com>"
   ]
  }
 ],
 "metadata": {
  "kernelspec": {
   "display_name": "Python 3",
   "language": "python",
   "name": "python3"
  },
  "language_info": {
   "codemirror_mode": {
    "name": "ipython",
    "version": 3
   },
   "file_extension": ".py",
   "mimetype": "text/x-python",
   "name": "python",
   "nbconvert_exporter": "python",
   "pygments_lexer": "ipython3",
   "version": "3.6.5"
  }
 },
 "nbformat": 4,
 "nbformat_minor": 2
}
