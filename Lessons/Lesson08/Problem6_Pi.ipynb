{
 "cells": [
  {
   "cell_type": "markdown",
   "metadata": {},
   "source": [
    "![](images/ckcslogo.png)"
   ]
  },
  {
   "cell_type": "markdown",
   "metadata": {},
   "source": [
    "### [Cool Kids Coding School](http://www.coolkidscodingschool.com)\n",
    "### Course: Problem Solving With Python\n",
    "### Lesson 8: Problem #6 - Estimating π Using Monte Carlo Method\n",
    "---"
   ]
  },
  {
   "cell_type": "markdown",
   "metadata": {},
   "source": [
    "### Overview\n",
    "- Go over syllabus objectives for today\n",
    "- Review: What is π?\n",
    "- Review: What is a Monte Carlo Method?\n",
    "- Discuss today's problem\n",
    "- Discuss solution strategy\n",
    "- Review homework"
   ]
  },
  {
   "cell_type": "markdown",
   "metadata": {},
   "source": [
    "### Section 1: Some Background"
   ]
  },
  {
   "cell_type": "markdown",
   "metadata": {},
   "source": [
    "#### 1.1 What does π represent?\n",
    "\n",
    "Ancient civilizations required fairly accurate computed values to approximate π for practical reasons, including the Egyptians and Babylonians. Around 250 BC the Greek mathematician Archimedes created an algorithm for calculating it. In the 5th century AD Chinese mathematics approximated π to seven digits, while Indian mathematics made a five-digit approximation, both using geometrical techniques.\n",
    "\n",
    "\n",
    "![](images/archimedes.jpeg)\n",
    "\n",
    "\n",
    "π is commonly defined as the ratio of a circle's circumference C to its diameter d\n",
    "\n",
    "\n",
    "$${\\displaystyle \\pi ={\\frac {C}{d}}}$$\n",
    "\n",
    "\n",
    "The ratio C/d is constant, regardless of the circle's size. For example, if a circle has twice the diameter of another circle it will also have twice the circumference, preserving the ratio C/d.\n",
    "\n",
    "\n",
    "![](images/circumference.png)"
   ]
  },
  {
   "cell_type": "markdown",
   "metadata": {},
   "source": [
    "#### 1.2 What is the equation of a circle?\n",
    "\n",
    "In this problem we will need to understand how to mathmatically draw a circle.  Without going too much into the details it is enough to know that a circle can be drawn by satisfying the following equation:\n",
    "\n",
    "$${x^2 + y^2 = r^2}$$\n",
    "\n",
    "Since this is an equality, when the left side equals the right side then this equality has been satisfied.  So, if we pick values for x and y that when squared equals right side then this equation has been satisfied and that (x,y) point is part of the solution.\n",
    "\n",
    "![](images/circle.png)\n",
    "\n",
    "| x | y | $${x^2 + y^2}$$ |\n",
    "|:-----|:-----|:----------|\n",
    "| 5 | 0 | $${5^2 + 0^2 = 25 + 0 = 25}$$ |\n",
    "| 3 | 4 | $${3^2 + 4^2 = 9 + 16 = 25}$$ |\n",
    "| 0 | 5 | $${0^2 + 5^2 = 0 + 25 = 25}$$ |\n",
    "| −4 | −3 | $${−4^2 + −3^2 = 16 + 9 = 25}$$ |\n",
    "| 0 | −5 | $${0^2 + −5^2 = 0 + 25 = 25}$$ |"
   ]
  },
  {
   "cell_type": "markdown",
   "metadata": {},
   "source": [
    "#### 1.3 What is Monte Carlo method?\n",
    "\n",
    "Monte Carlo methods are a class of computational algorithms that rely on random numbers to obtain numerical results. Their essential idea is using randomness to solve problems. They are used in many different types of problems especially in the physical, mathematical and finance problem space. In this lesson we are not going to get into the math behind Monte Carlo methods, all we need to know is that we are going to use a random sample in our solution.  If you recall we have already used random sampling in our probability problem."
   ]
  },
  {
   "cell_type": "markdown",
   "metadata": {},
   "source": [
    "### 2.0 How do we calculate Pi using Monte Carlo method?"
   ]
  },
  {
   "cell_type": "markdown",
   "metadata": {},
   "source": [
    "Now that we have the background we need to formulate this solution, how do we actually put together a solution?  \n",
    "\n",
    "Think about this for a second.  If we had a square with side of length 1, and we inscribe a circle in that square we would have something like the below figure.  \n",
    "\n",
    "![](images/inscribed.png)\n",
    "\n",
    "Imagine now if we threw darts at this figure.  What is the probabilty that our dart would land inside the circle versus outside the circle but in the square?  \n",
    "\n",
    "The probability would be the ratio of the area of the circle to the area of the square or roughly 0.7854.  We are going to calculate Pi using a similar method.\n",
    "\n",
    "\n",
    "[Interactive demo of estimating Pi](https://academo.org/demos/estimating-pi-monte-carlo/)\n",
    "\n",
    "We know that area of the square is 1 unit sq while that of circle is \n",
    "\n",
    "$${\\pi \\ast (\\frac{1}{2})^{2} = \\frac{\\pi}{4}}$$. \n",
    "\n",
    "Now for a very large number of generated points,\n",
    "\n",
    "$${\\frac{\\textrm{area of the circle}}{\\textrm{area of the square}} = \\frac{\\textrm{no. of points generated inside the circle}}{\\textrm{total no. of points generated or no. of points generated inside the square}}}$$\n",
    "\n",
    "rearranging and simplifying, we get\n",
    "\n",
    "$${\\pi = 4 \\ast \\frac{\\textrm{no. of points generated inside the circle}}{\\textrm{no. of points generated inside the square}}}$$\n",
    "\n",
    "\n",
    "This is the equation we are going to use to estimate Pi.\n",
    "\n",
    "One final note before we get started.  If I give you an (x,y) point how do I know if it in the circle or not?\n",
    "\n",
    "We use the formula of the circle from above and check if $${x^{2} + y^{2} \\leqslant 1}$$. \n",
    "\n",
    "If yes, the point is inside the circle. In a monte carlo simulation, the more the number of points we generate, the more accurate the result is. "
   ]
  },
  {
   "cell_type": "markdown",
   "metadata": {},
   "source": [
    "### Section 3.0: Solution Strategy"
   ]
  },
  {
   "cell_type": "markdown",
   "metadata": {},
   "source": [
    "Think about some of the things we are going to need to solve this problem?  What \"tools\" do we have in our toolbox?\n",
    "\n",
    "+ loops\n",
    "+ if statements\n",
    "+ operators\n",
    "+ random package\n",
    "+ math package"
   ]
  },
  {
   "cell_type": "markdown",
   "metadata": {},
   "source": [
    "### Section 4: How would you put together a solution?"
   ]
  },
  {
   "cell_type": "markdown",
   "metadata": {},
   "source": [
    "Can you describe the solution strategy in words or on paper?  Tell me how you would start coding it?"
   ]
  },
  {
   "cell_type": "markdown",
   "metadata": {},
   "source": [
    "## Any Questions?\n",
    "---\n",
    "###### for any questions contact <hw_help@coolkidscodingschool.com>"
   ]
  }
 ],
 "metadata": {
  "kernelspec": {
   "display_name": "Python 3",
   "language": "python",
   "name": "python3"
  },
  "language_info": {
   "codemirror_mode": {
    "name": "ipython",
    "version": 3
   },
   "file_extension": ".py",
   "mimetype": "text/x-python",
   "name": "python",
   "nbconvert_exporter": "python",
   "pygments_lexer": "ipython3",
   "version": "3.6.5"
  }
 },
 "nbformat": 4,
 "nbformat_minor": 2
}
