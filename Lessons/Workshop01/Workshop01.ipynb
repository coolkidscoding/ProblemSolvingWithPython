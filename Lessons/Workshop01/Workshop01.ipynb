{
 "cells": [
  {
   "cell_type": "markdown",
   "metadata": {},
   "source": [
    "![](images/ckcslogo.png)"
   ]
  },
  {
   "cell_type": "markdown",
   "metadata": {},
   "source": [
    "### [Cool Kids Coding School](http://www.coolkidscodingschool.com)\n",
    "### Course: Problem Solving With Python\n",
    "### Lesson 9: Problem #7 - Date Math\n",
    "---"
   ]
  },
  {
   "cell_type": "markdown",
   "metadata": {},
   "source": [
    "### Overview\n",
    "- Go over syllabus objectives for today\n",
    "- Confuscious Reminder\n",
    "- Review: What is date math?\n",
    "- Discuss today's problem\n",
    "- Discuss solution strategy\n",
    "- Review homework"
   ]
  },
  {
   "cell_type": "markdown",
   "metadata": {},
   "source": [
    "### **_I hear and I forget. I see and I remember. I do and I understand._**\n",
    "\n",
    "_Confucius_"
   ]
  },
  {
   "cell_type": "markdown",
   "metadata": {},
   "source": [
    "### Section 1: What is date math?"
   ]
  },
  {
   "cell_type": "markdown",
   "metadata": {},
   "source": [
    "In many cases while solving problems using code, or using data, we find that we need to deal with dates.  When manipulating dates we normally create them then offset them by time periods (days, months, years).  We need to calculate dates in the future as well as dates in the past.  This is generally called **Date Math** and is a very common task.\n",
    "\n",
    "Today we will learn how to create dates in the past, present and future.\n",
    "\n",
    "Luckily in Python there is alot of support for dates.  \n",
    "\n",
    "To do this we are going to leverage the **datetime** package builtin to Python."
   ]
  },
  {
   "cell_type": "markdown",
   "metadata": {},
   "source": [
    "#### Section 1.1: Creating dates\n",
    "\n",
    "The datetime package has several sub-packages in it.  It contains:\n",
    "+ datetime.date\n",
    "+ datetime.time\n",
    "+ datetime.datetime \n",
    "+ datetime.timedelta"
   ]
  },
  {
   "cell_type": "markdown",
   "metadata": {},
   "source": [
    "**datetime.date** models dates\n",
    "\n",
    "You use this package when you want to only model dates"
   ]
  },
  {
   "cell_type": "code",
   "execution_count": 31,
   "metadata": {},
   "outputs": [
    {
     "name": "stdout",
     "output_type": "stream",
     "text": [
      "Today is 2019-04-07\n",
      "This is a specific date 2019-02-01\n",
      "This is my birth date 1967-06-17\n"
     ]
    }
   ],
   "source": [
    "import datetime\n",
    "\n",
    "# get the current date\n",
    "x = datetime.date.today()\n",
    "print('Today is', x) \n",
    "\n",
    "# create a specific date\n",
    "y = datetime.date(2019,2,1)\n",
    "print('This is a specific date', y)\n",
    "\n",
    "# this is my birth date\n",
    "z = datetime.date(1967, 6,17)\n",
    "print('This is my birth date', z)"
   ]
  },
  {
   "cell_type": "markdown",
   "metadata": {},
   "source": [
    "If you create an incorrect date, you will get an error"
   ]
  },
  {
   "cell_type": "code",
   "execution_count": 32,
   "metadata": {},
   "outputs": [
    {
     "ename": "ValueError",
     "evalue": "day is out of range for month",
     "output_type": "error",
     "traceback": [
      "\u001b[0;31m---------------------------------------------------------------------------\u001b[0m",
      "\u001b[0;31mValueError\u001b[0m                                Traceback (most recent call last)",
      "\u001b[0;32m<ipython-input-32-76e40139fc33>\u001b[0m in \u001b[0;36m<module>\u001b[0;34m()\u001b[0m\n\u001b[1;32m      1\u001b[0m \u001b[0;31m# bad date\u001b[0m\u001b[0;34m\u001b[0m\u001b[0;34m\u001b[0m\u001b[0m\n\u001b[0;32m----> 2\u001b[0;31m \u001b[0ma\u001b[0m \u001b[0;34m=\u001b[0m \u001b[0mdatetime\u001b[0m\u001b[0;34m.\u001b[0m\u001b[0mdate\u001b[0m\u001b[0;34m(\u001b[0m\u001b[0;36m2019\u001b[0m\u001b[0;34m,\u001b[0m\u001b[0;36m2\u001b[0m\u001b[0;34m,\u001b[0m\u001b[0;36m31\u001b[0m\u001b[0;34m)\u001b[0m\u001b[0;34m\u001b[0m\u001b[0m\n\u001b[0m",
      "\u001b[0;31mValueError\u001b[0m: day is out of range for month"
     ]
    }
   ],
   "source": [
    "# bad date\n",
    "a = datetime.date(2019,2,31)"
   ]
  },
  {
   "cell_type": "markdown",
   "metadata": {},
   "source": [
    "Dates have functions associated with them that we can use"
   ]
  },
  {
   "cell_type": "code",
   "execution_count": 33,
   "metadata": {},
   "outputs": [
    {
     "name": "stdout",
     "output_type": "stream",
     "text": [
      "Year 2019\n",
      "Month 4\n",
      "Day 7\n",
      "Week day 6\n"
     ]
    }
   ],
   "source": [
    "# get the date components\n",
    "print('Year', x.year)\n",
    "print('Month', x.month)\n",
    "print('Day', x.day)\n",
    "\n",
    "# get the weekday\n",
    "print('Week day', x.weekday())"
   ]
  },
  {
   "cell_type": "markdown",
   "metadata": {},
   "source": [
    "Dates support comparison operators"
   ]
  },
  {
   "cell_type": "code",
   "execution_count": 34,
   "metadata": {},
   "outputs": [
    {
     "name": "stdout",
     "output_type": "stream",
     "text": [
      "2019-04-07 2019-02-01\n",
      "x < y False\n",
      "x > y True\n",
      "x == y False\n"
     ]
    }
   ],
   "source": [
    "# compare two dates\n",
    "print(x, y)\n",
    "print('x < y', x < y)\n",
    "print('x > y', x > y)\n",
    "print('x == y', x == y)"
   ]
  },
  {
   "cell_type": "markdown",
   "metadata": {},
   "source": [
    "**datetime.time** models time\n",
    "\n",
    "You use this package only when you want to deal with time"
   ]
  },
  {
   "cell_type": "code",
   "execution_count": 35,
   "metadata": {},
   "outputs": [
    {
     "name": "stdout",
     "output_type": "stream",
     "text": [
      "16:01:12\n"
     ]
    }
   ],
   "source": [
    "# create a time object \n",
    "t = datetime.time(16,1,12)\n",
    "print(t)"
   ]
  },
  {
   "cell_type": "markdown",
   "metadata": {},
   "source": [
    "**datetime.datetime** models a day and time combination\n",
    "\n",
    "You this package when you want to represent both dates and times together."
   ]
  },
  {
   "cell_type": "code",
   "execution_count": 36,
   "metadata": {},
   "outputs": [
    {
     "name": "stdout",
     "output_type": "stream",
     "text": [
      "The datetime right now 2019-04-07 21:33:52.221928\n",
      "The date today 2019-04-07\n",
      "The time right now is 21:33:52.221928\n"
     ]
    }
   ],
   "source": [
    "# get the current date time\n",
    "c = datetime.datetime.now()\n",
    "print('The datetime right now', c)\n",
    "\n",
    "# if you just want to see the date part\n",
    "print('The date today', c.date())\n",
    "\n",
    "# if you just want to see the time part\n",
    "print('The time right now is', c.time())"
   ]
  },
  {
   "cell_type": "markdown",
   "metadata": {},
   "source": [
    "**datetime.timedelta** is very interesting.  It allows us to add or subtract units of date/time to an existing datetime.  In this way we can calculate days in the past or in the future."
   ]
  },
  {
   "cell_type": "code",
   "execution_count": 37,
   "metadata": {},
   "outputs": [
    {
     "name": "stdout",
     "output_type": "stream",
     "text": [
      "2019-04-07 2019-02-01\n",
      "x plus 30 days 2019-05-07\n",
      "x - y 65 days, 0:00:00\n",
      "10 hours from now 2019-04-08 07:33:53.200517\n"
     ]
    }
   ],
   "source": [
    "# original dates\n",
    "print(x,y)\n",
    "\n",
    "# add 30 days to a date\n",
    "x1 = x + datetime.timedelta(days=30)\n",
    "print('x plus 30 days', x1)\n",
    "\n",
    "# subtract two dates, get the number of days between two dates\n",
    "y1 = x - y\n",
    "print('x - y', y1)\n",
    "\n",
    "# what is 10 hours from now\n",
    "t1 = datetime.datetime.now()\n",
    "t2 = t1 + datetime.timedelta(hours=10)\n",
    "print('10 hours from now', t2)"
   ]
  },
  {
   "cell_type": "markdown",
   "metadata": {},
   "source": [
    "### Section 2: Today's Problem"
   ]
  },
  {
   "cell_type": "markdown",
   "metadata": {},
   "source": [
    "How many Sundays fell on the first of the month during the twentieth century (1 Jan 1901 to 31 Dec 2000)?"
   ]
  },
  {
   "cell_type": "markdown",
   "metadata": {},
   "source": [
    "### Section 3: Solution Strategy"
   ]
  },
  {
   "cell_type": "markdown",
   "metadata": {},
   "source": [
    "Think about some of the things we are going to need to solve this problem?  What \"tools\" do we have in our toolbox?\n",
    "\n",
    "+ loops\n",
    "+ if statements\n",
    "+ operators\n",
    "+ datetime package"
   ]
  },
  {
   "cell_type": "markdown",
   "metadata": {},
   "source": [
    "### Section 4: How would you put together a solution?"
   ]
  },
  {
   "cell_type": "markdown",
   "metadata": {},
   "source": [
    "Can you describe the solution strategy in words or on paper?  Tell me how you would start coding it?"
   ]
  },
  {
   "cell_type": "markdown",
   "metadata": {},
   "source": [
    "## Any Questions?\n",
    "---\n",
    "###### for any questions contact <jimmy@coolkidscodingschool.com>"
   ]
  }
 ],
 "metadata": {
  "kernelspec": {
   "display_name": "Python 3",
   "language": "python",
   "name": "python3"
  },
  "language_info": {
   "codemirror_mode": {
    "name": "ipython",
    "version": 3
   },
   "file_extension": ".py",
   "mimetype": "text/x-python",
   "name": "python",
   "nbconvert_exporter": "python",
   "pygments_lexer": "ipython3",
   "version": "3.6.4"
  }
 },
 "nbformat": 4,
 "nbformat_minor": 2
}
