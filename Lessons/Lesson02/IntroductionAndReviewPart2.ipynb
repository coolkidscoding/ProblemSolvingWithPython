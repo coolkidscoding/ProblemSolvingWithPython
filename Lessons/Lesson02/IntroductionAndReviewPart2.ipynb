{
 "cells": [
  {
   "cell_type": "markdown",
   "metadata": {},
   "source": [
    "![](images/ckcslogo.png)"
   ]
  },
  {
   "cell_type": "markdown",
   "metadata": {},
   "source": [
    "### [Cool Kids Coding School](http://www.coolkidscodingschool.com)\n",
    "### Course: Problem Solving With Python\n",
    "### Lesson 2: Introduction and Review (Loops and Conditionals)\n",
    "---"
   ]
  },
  {
   "cell_type": "markdown",
   "metadata": {},
   "source": [
    "### Overview\n",
    "- Welcome!\n",
    "- Go over syllabus objectives for today\n",
    "- Review: Looping constructs\n",
    "- Review: Conditional statements\n",
    "- In class exercises\n",
    "- Review homework framework"
   ]
  },
  {
   "cell_type": "markdown",
   "metadata": {},
   "source": [
    "## **Welcome!** \n",
    "\n",
    "We continue our review of the fundamentally important concepts from the **_Introductory Python_**. Today we will review the various looping structures we discussed last semester and we will go over conditional statements.  After that we will work on some in class exercises and finally we will review the homework for next class."
   ]
  },
  {
   "cell_type": "markdown",
   "metadata": {},
   "source": [
    "### Section 1: Data Structures"
   ]
  },
  {
   "cell_type": "markdown",
   "metadata": {},
   "source": [
    "#### 1.1 Tuple\n",
    "A **tuple** is an ordered data structure.  A tuple can be thought of as a grouping of related data.  Whenever you have data that you think needs to be kept together as one unit, you can use a tuple.  A tuple can be created by using PARENTHESIS around a comma seperated group of data.  There are some special characteristics associated with a tuple that we will discuss soon.  "
   ]
  },
  {
   "cell_type": "code",
   "execution_count": 19,
   "metadata": {},
   "outputs": [
    {
     "name": "stdout",
     "output_type": "stream",
     "text": [
      "(1, 2, 3, 4, 5)\n"
     ]
    }
   ],
   "source": [
    "# this is an empty tuple\n",
    "tuple_variable = ()\n",
    "type(tuple_variable)\n",
    "\n",
    "# this is a tuple with data in it\n",
    "tuple_variable2 = (1,2,3,4,5)\n",
    "print(tuple_variable2)"
   ]
  },
  {
   "cell_type": "markdown",
   "metadata": {},
   "source": [
    "#### 1.1.1 Accessing elements from a Tuple\n",
    "Elements in a tuple are accessed the same way we access data from a list, we use indexing.  **Same as list indexing, indexes in Python always start at 0**.  **The largest valid index of a non-empty tuple is the length of the tuple - 1**."
   ]
  },
  {
   "cell_type": "code",
   "execution_count": 20,
   "metadata": {},
   "outputs": [
    {
     "name": "stdout",
     "output_type": "stream",
     "text": [
      "[('Lebron James', 23, 'Lakers'), ('Russell Westbrook', 0, 'Thunder')]\n",
      "('Lebron James', 23, 'Lakers')\n",
      "The first element in the tuple: Lebron James\n",
      "The second element in the tuple: 23\n",
      "The third element in the tuple: Lakers\n",
      "The length of the tuple 3\n"
     ]
    }
   ],
   "source": [
    "nba_player1 = ('Lebron James', 23, 'Lakers')\n",
    "nba_player2 = ('Russell Westbrook', 0, 'Thunder')\n",
    "\n",
    "# a tuple with nba player tuples in it\n",
    "nba_players = []\n",
    "nba_players.append(nba_player1)\n",
    "nba_players.append(nba_player2)\n",
    "print(nba_players)\n",
    "\n",
    "print(nba_player1)\n",
    "print('The first element in the tuple:', nba_player1[0])\n",
    "print('The second element in the tuple:', nba_player1[1])\n",
    "print('The third element in the tuple:', nba_player1[2])\n",
    "\n",
    "print('The length of the tuple', len(nba_player1))"
   ]
  },
  {
   "cell_type": "markdown",
   "metadata": {},
   "source": [
    "#### 1.2 Set\n",
    "A **Set** is an unordered data structure.  You may have learned about sets in your math class.  If not, there is some functionality that sets have that can be very useful.  We will go over this functionality below.  A set looks similar to a dictionary.  They both use the CURLY BRACES, however if you look closely a set does not use keys.  There are a few other differences which we will get into."
   ]
  },
  {
   "cell_type": "code",
   "execution_count": 21,
   "metadata": {},
   "outputs": [
    {
     "name": "stdout",
     "output_type": "stream",
     "text": [
      "<class 'set'>\n",
      "{'one', 2, 'three'} <class 'set'>\n"
     ]
    }
   ],
   "source": [
    "# an empty set cannot be created with just braces, because python would think you are trying yo create a dictionary.\n",
    "# Instead an empty set is created with the set keyword.\n",
    "s1 = set() \n",
    "print(type(s1))\n",
    "\n",
    "# a set with some initial values\n",
    "s2 = {'one', 2, 'three'}\n",
    "print(s2, type(s2))"
   ]
  },
  {
   "cell_type": "markdown",
   "metadata": {},
   "source": [
    "#### 1.2.1 Adding to a set\n",
    "To add new elements to a set we use the **add** function, similar to the way we use append on lists."
   ]
  },
  {
   "cell_type": "code",
   "execution_count": 22,
   "metadata": {},
   "outputs": [
    {
     "name": "stdout",
     "output_type": "stream",
     "text": [
      "{1, 2, 3, 4, 5}\n",
      "{1, 2, 3, 4, 5, 6}\n"
     ]
    }
   ],
   "source": [
    "s1 = {1,2,3,4,5}\n",
    "print(s1)\n",
    "\n",
    "# add a new value\n",
    "s1.add(6)\n",
    "\n",
    "print(s1)"
   ]
  },
  {
   "cell_type": "markdown",
   "metadata": {},
   "source": [
    "If we try to add an element that already exists in the set we do not get a duplicate value.  Sets do not support duplicate eleiments.  There is no error in this case though."
   ]
  },
  {
   "cell_type": "code",
   "execution_count": 23,
   "metadata": {},
   "outputs": [
    {
     "name": "stdout",
     "output_type": "stream",
     "text": [
      "{1, 2, 3, 4, 5}\n",
      "{1, 2, 3, 4, 5}\n"
     ]
    }
   ],
   "source": [
    "s1 = {1,2,3,4,5}\n",
    "print(s1)\n",
    "\n",
    "# try adding a second 5\n",
    "s1.add(5)\n",
    "\n",
    "# you will notice there is no error, however there is no duplicate 5 either\n",
    "print(s1)"
   ]
  },
  {
   "cell_type": "markdown",
   "metadata": {},
   "source": [
    "#### 1.2.2 Other Set Operations"
   ]
  },
  {
   "cell_type": "code",
   "execution_count": 24,
   "metadata": {},
   "outputs": [
    {
     "name": "stdout",
     "output_type": "stream",
     "text": [
      "The length of s1: 5\n",
      "Union set: {1, 2, 3, 4, 5, 6, 7, 8}\n",
      "Intersection set: {4, 5}\n",
      "Difference set: {1, 2, 3}\n"
     ]
    }
   ],
   "source": [
    "s1 = {1,2,3,4,5}\n",
    "s2 = {4,5,6,7,8}\n",
    "\n",
    "# getting the number of elements in a dictionary\n",
    "print('The length of s1:', len(s1))\n",
    "\n",
    "# sets support operations like\n",
    "\n",
    "# union: adding two sets together\n",
    "s3 = s1.union(s2)\n",
    "print('Union set:', s3)\n",
    "\n",
    "# intersection: common elements between two sets\n",
    "s4 = s1.intersection(s2)\n",
    "print('Intersection set:', s4)\n",
    "\n",
    "# difference: elements in one set but not the other\n",
    "s5 = s1.difference(s2)\n",
    "print('Difference set:', s5)"
   ]
  },
  {
   "cell_type": "markdown",
   "metadata": {},
   "source": [
    "#### 1.2.3 Searching through a set\n",
    "To search through a set we use a similar statement as in a list."
   ]
  },
  {
   "cell_type": "code",
   "execution_count": 25,
   "metadata": {},
   "outputs": [
    {
     "name": "stdout",
     "output_type": "stream",
     "text": [
      "Look for one True\n",
      "Look for two False\n",
      "Look for four False\n"
     ]
    }
   ],
   "source": [
    "s1 = {'one', 2, 'three'}\n",
    "\n",
    "print('Look for one', 'one' in s1)\n",
    "print('Look for two', 'two' in s1)\n",
    "print('Look for four', 'four' in s1)"
   ]
  },
  {
   "cell_type": "markdown",
   "metadata": {},
   "source": [
    "### Section 2: Loops"
   ]
  },
  {
   "cell_type": "markdown",
   "metadata": {},
   "source": [
    "### 2.1 Why do we need loops?\n",
    "Computers are great at managing large amounts of data.  They are also great at doing the same thing over and over again - without getting bored.  \n",
    "If we have a million exams to correct, a computer can do it very quickly and without errors.  To be able to process a large amount of data we have to setup a program that will \"loop\" over a large amount of records.  In Python we call this looping, because we loop over each pice of data and do something to it.  In other words we process it."
   ]
  },
  {
   "cell_type": "markdown",
   "metadata": {},
   "source": [
    "### Different types of loops\n",
    "\n",
    "In Python there are two types of loops.  There is the **_for_** loop and the **_while_** loop.  Each loop requires a way to specify for how long the loop should continue.  In programming, another word for looping is called \"iterating\" because we iterate over some sequence.\n",
    "\n",
    "We will learn about the details of these below.\n",
    "\n",
    "#### 2.2 _while_ loop\n",
    "\n",
    "A **while** loop will loop while the conditional that defines it is True.  Once the conditional that defines this loop become False then the loop will stop.  "
   ]
  },
  {
   "cell_type": "code",
   "execution_count": 26,
   "metadata": {
    "scrolled": true
   },
   "outputs": [
    {
     "name": "stdout",
     "output_type": "stream",
     "text": [
      "['hello', 'hello', 'hello', 'hello', 'hello', 'hello', 'hello', 'hello', 'hello', 'hello']\n"
     ]
    }
   ],
   "source": [
    "# a while loop requires a variable that it \n",
    "# checks against to be True in order for the\n",
    "# loop to continue\n",
    "list_variable = []\n",
    "while len(list_variable) < 10:\n",
    "    list_variable.append('hello')\n",
    "    \n",
    "print(list_variable)"
   ]
  },
  {
   "cell_type": "markdown",
   "metadata": {},
   "source": [
    "**SIDE NOTE**: A very important thing to notice in the code above is the indentation.  We have not seen that before.  With the introduction of the loops we know have the ability to do code that is in the loop and code that is out of the loop.  This in general is what is called a **code block**.  In Python, code blocks are identified by indentations.  All the code at the same level of indentation is considered to be in the same code block. "
   ]
  },
  {
   "cell_type": "markdown",
   "metadata": {},
   "source": [
    "```python\n",
    "code block 1\n",
    "code block 1\n",
    "    code block 2\n",
    "    code block 2\n",
    "        code block 3\n",
    "    code block 2\n",
    "code block 1\n",
    "```\n",
    "In the above example I have marked the different code blocks that are created.  Code blocks can be inside other code blocks.  Code blocks are defined by various Python language statements.  In this case loops are defining code blocks.  Below we will see how conditional statements define code blocks."
   ]
  },
  {
   "cell_type": "code",
   "execution_count": 27,
   "metadata": {
    "scrolled": true
   },
   "outputs": [
    {
     "name": "stdout",
     "output_type": "stream",
     "text": [
      "var1 is  0\n",
      "var1 is  1\n",
      "var1 is  2\n",
      "var1 is  3\n",
      "var1 is  4\n",
      "var1 is  5\n",
      "var1 is  6\n",
      "var1 is  7\n",
      "var1 is  8\n",
      "var1 is  9\n",
      "var1 is  10\n",
      "11\n"
     ]
    }
   ],
   "source": [
    "# set the starting point\n",
    "var1 = 0\n",
    "\n",
    "# while the value in the var1 variable is less than 10\n",
    "while var1 <= 10:\n",
    "    print('var1 is ', var1)\n",
    "    \n",
    "    # increment the variable by 1\n",
    "    var1 = var1 + 1\n",
    "    \n",
    "print(var1)"
   ]
  },
  {
   "cell_type": "markdown",
   "metadata": {},
   "source": [
    "In any programming language, if the conditional portion of the loop does not become False then the loop will go on forever, this is called an infinite loop.  The loop will continue until you run out of memory - a long time.  To stop an infinite loop - enter command mode (press ESC) then press I twice."
   ]
  },
  {
   "cell_type": "markdown",
   "metadata": {},
   "source": [
    "Similarly, if the conditional in the while loop never becomes True, then we will never enter the loop at all."
   ]
  },
  {
   "cell_type": "markdown",
   "metadata": {},
   "source": [
    "Thats all there is to a **while** loop.  Any questions?"
   ]
  },
  {
   "cell_type": "markdown",
   "metadata": {},
   "source": [
    "#### 2.3 _for_ loop"
   ]
  },
  {
   "cell_type": "markdown",
   "metadata": {},
   "source": [
    "A _while_ loop was ideal for looping over until a conditional turned to False, but what if I had a data structure and wanted to loop over all the elements in the data structure?\n",
    "This is what the _for_ loop is ideally suited for.\n",
    "In a _for_ loop we loop over every item in a data structure.  "
   ]
  },
  {
   "cell_type": "code",
   "execution_count": 28,
   "metadata": {
    "scrolled": true
   },
   "outputs": [
    {
     "name": "stdout",
     "output_type": "stream",
     "text": [
      "Inside the loop, element in the list,  1\n",
      "Inside the loop, element in the list,  2\n",
      "Inside the loop, element in the list,  3\n",
      "Inside the loop, element in the list,  4\n",
      "Inside the loop, element in the list,  5\n",
      "Inside the loop, element in the list,  6\n",
      "Inside the loop, element in the list,  7\n",
      "Inside the loop, element in the list,  8\n",
      "Inside the loop, element in the list,  9\n",
      "Inside the loop, element in the list,  10\n",
      "Outside the loop\n"
     ]
    }
   ],
   "source": [
    "# start with a populated data structure\n",
    "list_variable = [1,2,3,4,5,6,7,8,9,10]\n",
    "\n",
    "# In a for loop we itereate over all the elements in the sequence\n",
    "# To setup a for loop correctly we need a variable name, in this case elt (could be any variable name)\n",
    "# Then we need a sequence, in this case list_varaible\n",
    "for elt in list_variable:\n",
    "    print('Inside the loop, element in the list, ', elt)\n",
    "    \n",
    "print('Outside the loop')"
   ]
  },
  {
   "cell_type": "markdown",
   "metadata": {},
   "source": [
    "The final thing we are going to talk about with loops is the builtin function called _range_\n",
    "The range function allows us to create a sequence of numbers up to a specified limit."
   ]
  },
  {
   "cell_type": "code",
   "execution_count": 29,
   "metadata": {
    "scrolled": true
   },
   "outputs": [
    {
     "data": {
      "text/plain": [
       "range(0, 100)"
      ]
     },
     "execution_count": 29,
     "metadata": {},
     "output_type": "execute_result"
    }
   ],
   "source": [
    "range(100)"
   ]
  },
  {
   "cell_type": "code",
   "execution_count": 30,
   "metadata": {
    "scrolled": true
   },
   "outputs": [
    {
     "name": "stdout",
     "output_type": "stream",
     "text": [
      "0\n",
      "1\n",
      "2\n",
      "3\n",
      "4\n",
      "5\n",
      "6\n",
      "7\n",
      "8\n",
      "9\n",
      "10\n",
      "11\n",
      "12\n",
      "13\n",
      "14\n",
      "15\n",
      "16\n",
      "17\n",
      "18\n",
      "19\n",
      "20\n",
      "21\n",
      "22\n",
      "23\n",
      "24\n",
      "25\n",
      "26\n",
      "27\n",
      "28\n",
      "29\n",
      "30\n",
      "31\n",
      "32\n",
      "33\n",
      "34\n",
      "35\n",
      "36\n",
      "37\n",
      "38\n",
      "39\n",
      "40\n",
      "41\n",
      "42\n",
      "43\n",
      "44\n",
      "45\n",
      "46\n",
      "47\n",
      "48\n",
      "49\n",
      "50\n",
      "51\n",
      "52\n",
      "53\n",
      "54\n",
      "55\n",
      "56\n",
      "57\n",
      "58\n",
      "59\n",
      "60\n",
      "61\n",
      "62\n",
      "63\n",
      "64\n",
      "65\n",
      "66\n",
      "67\n",
      "68\n",
      "69\n",
      "70\n",
      "71\n",
      "72\n",
      "73\n",
      "74\n",
      "75\n",
      "76\n",
      "77\n",
      "78\n",
      "79\n",
      "80\n",
      "81\n",
      "82\n",
      "83\n",
      "84\n",
      "85\n",
      "86\n",
      "87\n",
      "88\n",
      "89\n",
      "90\n",
      "91\n",
      "92\n",
      "93\n",
      "94\n",
      "95\n",
      "96\n",
      "97\n",
      "98\n",
      "99\n"
     ]
    }
   ],
   "source": [
    "for elt in range(100):\n",
    "    print(elt)"
   ]
  },
  {
   "cell_type": "markdown",
   "metadata": {},
   "source": [
    "### Section 3: Conditional Statements"
   ]
  },
  {
   "cell_type": "markdown",
   "metadata": {},
   "source": [
    "This next topic is also known as **if** statements.  The need for these kind of statements should be at least semi-obvious.  When we are processing alot of data most of the time we need to make decisions based on the value we are looking at.  This is what conditional statements are used for."
   ]
  },
  {
   "cell_type": "markdown",
   "metadata": {},
   "source": [
    "Just like loops, with conditional statements we also have code blocks.  We have code that is outside the loop, code that is in the loop and code that is in the conditional.  Pay attention to this."
   ]
  },
  {
   "cell_type": "code",
   "execution_count": 31,
   "metadata": {
    "scrolled": true
   },
   "outputs": [
    {
     "name": "stdout",
     "output_type": "stream",
     "text": [
      "[51, 52, 53, 54, 55, 56, 57, 58, 59, 60, 61, 62, 63, 64, 65, 66, 67, 68, 69, 70, 71, 72, 73, 74, 75, 76, 77, 78, 79, 80, 81, 82, 83, 84, 85, 86, 87, 88, 89, 90, 91, 92, 93, 94, 95, 96, 97, 98, 99]\n"
     ]
    }
   ],
   "source": [
    "# we are going to setup a loop and only add numbers \n",
    "# greater than 50 to a list\n",
    "\n",
    "list_variable = []\n",
    "\n",
    "# code block outside the loop\n",
    "for elt in range(100):\n",
    "    # code block in the loop\n",
    "    if elt > 50:\n",
    "        # code block in the conditional\n",
    "        list_variable.append(elt)\n",
    "        \n",
    "print(list_variable)"
   ]
  },
  {
   "cell_type": "markdown",
   "metadata": {},
   "source": [
    "With conditionals, in some cases we want to execute a certain code block, in another case we want to execute a different code block.  We can achieve this with the **else** clause of a conditional."
   ]
  },
  {
   "cell_type": "code",
   "execution_count": 32,
   "metadata": {
    "scrolled": true
   },
   "outputs": [
    {
     "name": "stdout",
     "output_type": "stream",
     "text": [
      "Below 50,  [0, 1, 2, 3, 4, 5, 6, 7, 8, 9, 10, 11, 12, 13, 14, 15, 16, 17, 18, 19, 20, 21, 22, 23, 24, 25, 26, 27, 28, 29, 30, 31, 32, 33, 34, 35, 36, 37, 38, 39, 40, 41, 42, 43, 44, 45, 46, 47, 48, 49]\n",
      "Above 50,  [50, 51, 52, 53, 54, 55, 56, 57, 58, 59, 60, 61, 62, 63, 64, 65, 66, 67, 68, 69, 70, 71, 72, 73, 74, 75, 76, 77, 78, 79, 80, 81, 82, 83, 84, 85, 86, 87, 88, 89, 90, 91, 92, 93, 94, 95, 96, 97, 98, 99]\n"
     ]
    }
   ],
   "source": [
    "# in this example we will create two lists one for values below 50\n",
    "# one for values above 50.  We will use the else in the conditional to \n",
    "# achieve this\n",
    "list_var_above_50 = []\n",
    "list_var_below_50 = []\n",
    "for elt in range(100):\n",
    "\n",
    "    if elt < 50:\n",
    "        # if the value is below 50 add it to this list\n",
    "        list_var_below_50.append(elt)\n",
    "    else:\n",
    "        # else if the value is not below 50 add it to this list\n",
    "        list_var_above_50.append(elt)\n",
    "        \n",
    "print('Below 50, ', list_var_below_50)\n",
    "print('Above 50, ', list_var_above_50)\n"
   ]
  },
  {
   "cell_type": "markdown",
   "metadata": {},
   "source": [
    "The **if** statement is not limited to 2 clauses.  I can have as many as I want.  This is accomplished by the **elif** clause. "
   ]
  },
  {
   "cell_type": "code",
   "execution_count": 33,
   "metadata": {
    "scrolled": true
   },
   "outputs": [
    {
     "name": "stdout",
     "output_type": "stream",
     "text": [
      "0-29,  [0, 1, 2, 3, 4, 5, 6, 7, 8, 9, 10, 11, 12, 13, 14, 15, 16, 17, 18, 19, 20, 21, 22, 23, 24, 25, 26, 27, 28, 29]\n",
      "30-59,  [30, 31, 32, 33, 34, 35, 36, 37, 38, 39, 40, 41, 42, 43, 44, 45, 46, 47, 48, 49, 50, 51, 52, 53, 54, 55, 56, 57, 58, 59]\n",
      "60-99,  [60, 61, 62, 63, 64, 65, 66, 67, 68, 69, 70, 71, 72, 73, 74, 75, 76, 77, 78, 79, 80, 81, 82, 83, 84, 85, 86, 87, 88, 89, 90, 91, 92, 93, 94, 95, 96, 97, 98, 99]\n"
     ]
    }
   ],
   "source": [
    "# in this example we will setup 3 lists\n",
    "# all values below 30 will go in one list\n",
    "# all values between 30 and below 60 will go in another list\n",
    "# all values 60 and above will go in a third list\n",
    "list_0_29 = []\n",
    "list_30_59 = []\n",
    "list_60_99 = []\n",
    "\n",
    "for elt in range(100):\n",
    "    if elt >= 0 and elt < 30:\n",
    "        list_0_29.append(elt)\n",
    "    elif elt >= 30 and elt < 60:\n",
    "        list_30_59.append(elt)\n",
    "    elif elt >= 60 and elt < 100:\n",
    "        list_60_99.append(elt)\n",
    "        \n",
    "print('0-29, ', list_0_29)\n",
    "print('30-59, ', list_30_59)\n",
    "print('60-99, ', list_60_99)"
   ]
  },
  {
   "cell_type": "markdown",
   "metadata": {},
   "source": [
    "What if we want to exit a loop early?  Let's say we are adding up numbers and we want to exit the loop once we get to a certain value.  How do we do that?  There is a keyword in Python that is associated with loops called **break**."
   ]
  },
  {
   "cell_type": "code",
   "execution_count": 34,
   "metadata": {
    "scrolled": true
   },
   "outputs": [
    {
     "name": "stdout",
     "output_type": "stream",
     "text": [
      "Trying to get to 100, element value is  0  value sum is  0\n",
      "Trying to get to 100, element value is  1  value sum is  1\n",
      "Trying to get to 100, element value is  2  value sum is  3\n",
      "Trying to get to 100, element value is  3  value sum is  6\n",
      "Trying to get to 100, element value is  4  value sum is  10\n",
      "Trying to get to 100, element value is  5  value sum is  15\n",
      "Trying to get to 100, element value is  6  value sum is  21\n",
      "Trying to get to 100, element value is  7  value sum is  28\n",
      "Trying to get to 100, element value is  8  value sum is  36\n",
      "Trying to get to 100, element value is  9  value sum is  45\n",
      "Trying to get to 100, element value is  10  value sum is  55\n",
      "Trying to get to 100, element value is  11  value sum is  66\n",
      "Trying to get to 100, element value is  12  value sum is  78\n",
      "Trying to get to 100, element value is  13  value sum is  91\n",
      "Trying to get to 100, element value is  14  value sum is  105\n"
     ]
    }
   ],
   "source": [
    "# setup a simple loop from 0 - 99\n",
    "# keep adding numbers together until we get above 100\n",
    "# break out of the loop once we reach that goal\n",
    "\n",
    "value_sum = 0\n",
    "for elt in range(100):\n",
    "    value_sum = value_sum + elt\n",
    "    print('Trying to get to 100, element value is ', elt, ' value sum is ', value_sum)\n",
    "    if value_sum >= 100:\n",
    "        break\n",
    "        \n"
   ]
  },
  {
   "cell_type": "markdown",
   "metadata": {},
   "source": [
    "Lets say we are iterating over a sequence of numbers and we want to skip any numbers that are odd.  How do we ignore the odd numbers?  There is a keyword in Python called **continue** that allows us to do this.\n",
    "\n",
    "First of all, what is an odd number?  In this exercise we are going to use the remainder function to identify odd numbers.  When we divide a number by 2 an odd number has a remainder of 1, because they dont evenly divide by 2, an even number has a remanider of 0. "
   ]
  },
  {
   "cell_type": "code",
   "execution_count": 35,
   "metadata": {
    "scrolled": true
   },
   "outputs": [
    {
     "name": "stdout",
     "output_type": "stream",
     "text": [
      "[0, 2, 4, 6, 8, 10, 12, 14, 16, 18, 20, 22, 24, 26, 28, 30, 32, 34, 36, 38, 40, 42, 44, 46, 48, 50, 52, 54, 56, 58, 60, 62, 64, 66, 68, 70, 72, 74, 76, 78, 80, 82, 84, 86, 88, 90, 92, 94, 96, 98]\n"
     ]
    }
   ],
   "source": [
    "# create an empty list to accumulate the results we want\n",
    "list_even = []\n",
    "\n",
    "# loop from 0 to 99\n",
    "for elt in range(100):\n",
    "    \n",
    "    # calculate the remainder\n",
    "    remainder = elt % 2\n",
    "    \n",
    "    # test the remainder\n",
    "    if remainder == 1:\n",
    "        # if the remainder is 1 (ie elt is odd, continue the loop)\n",
    "        continue\n",
    "        \n",
    "    # if we get here then the remainder is 0\n",
    "    # which means it is an even number\n",
    "    list_even.append(elt)\n",
    "    \n",
    "print(list_even)\n",
    "        "
   ]
  },
  {
   "cell_type": "markdown",
   "metadata": {},
   "source": [
    "## Any Questions?\n",
    "---\n",
    "###### for any questions contact <hw_help@coolkidscodingschool.com>"
   ]
  }
 ],
 "metadata": {
  "kernelspec": {
   "display_name": "Python 3",
   "language": "python",
   "name": "python3"
  },
  "language_info": {
   "codemirror_mode": {
    "name": "ipython",
    "version": 3
   },
   "file_extension": ".py",
   "mimetype": "text/x-python",
   "name": "python",
   "nbconvert_exporter": "python",
   "pygments_lexer": "ipython3",
   "version": "3.6.4"
  }
 },
 "nbformat": 4,
 "nbformat_minor": 2
}
