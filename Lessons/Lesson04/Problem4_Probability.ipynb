{
 "cells": [
  {
   "cell_type": "markdown",
   "metadata": {},
   "source": [
    "![](images/ckcslogo.png)"
   ]
  },
  {
   "cell_type": "markdown",
   "metadata": {},
   "source": [
    "### [Cool Kids Coding School](http://www.coolkidscodingschool.com)\n",
    "### Course: Problem Solving With Python\n",
    "### Lesson 4: Problem #4 - Probability\n",
    "---"
   ]
  },
  {
   "cell_type": "markdown",
   "metadata": {},
   "source": [
    "### Overview\n",
    "- Go over syllabus objectives for today\n",
    "- Review: What is probability>\n",
    "- Discuss today's problem\n",
    "- Discuss solution strategy\n",
    "- Review homework"
   ]
  },
  {
   "cell_type": "markdown",
   "metadata": {},
   "source": [
    "### Section 1: Probability?"
   ]
  },
  {
   "cell_type": "markdown",
   "metadata": {},
   "source": [
    "### 1.1 What is Probability?\n",
    "\n",
    "Probability is the measure of the likelihood that an event will occur. Probability quantifies as a number between 0 and 1, where, 0 indicates impossibility and 1 indicates certainty. The higher the probability of an event, the more likely it is that the event will occur. A simple example is the tossing of a fair (unbiased) coin. Since the coin is fair, the two outcomes (\"heads\" and \"tails\") are both equally probable; the probability of \"heads\" equals the probability of \"tails\"; and since no other outcomes are possible, the probability of either \"heads\" or \"tails\" is 1/2 (which could also be written as 0.5 or 50%).\n",
    "\n",
    "These concepts have been given a formalization in probability theory, which is used widely in such areas of study as mathematics, statistics, finance, gambling, science (in particular physics), artificial intelligence/machine learning, computer science, game theory, and philosophy to, for example, draw inferences about the expected frequency of events. \n",
    "\n",
    "Many events can't be predicted with total certainty. The best we can say is how likely they are to happen, using the idea of probability.\n",
    "Tossing a Coin\n",
    "\n",
    "When a coin is tossed, there are two possible outcomes:\n",
    "\n",
    "    heads (H) or\n",
    "    tails (T)\n",
    "\n",
    "We say that the probability of the coin landing H is ½\n",
    "\n",
    "And the probability of the coin landing T is ½\n",
    "\n",
    " \n",
    "Throwing Dice \n",
    "When a single die is thrown, there are six possible outcomes: 1, 2, 3, 4, 5, 6.\n",
    "\n",
    "The probability of any one of them is 1/6\n",
    "\n",
    "In general:\n",
    "\n",
    "**Probability of an event happening = Number of ways it can happen / Total number of outcomes**\n",
    "\n",
    " \n",
    "**Example**: the chances of rolling a \"4\" with a die\n",
    "\n",
    "Number of ways it can happen: 1 (there is only 1 face with a \"4\" on it)\n",
    "\n",
    "Total number of outcomes: 6 (there are 6 faces altogether)\n",
    "\n",
    "So the probability = 1 / 6\n",
    "---\n",
    "**Example**: there are 5 marbles in a bag: 4 are blue, and 1 is red. \n",
    "What is the probability that a blue marble gets picked?\n",
    "\n",
    "Number of ways it can happen: 4 (there are 4 blues)\n",
    "\n",
    "Total number of outcomes: 5 (there are 5 marbles in total)\n",
    "\n",
    "So the probability = 4 / 5 = 0.8\n",
    "---\n",
    "Probability is always between 0 and 1\n",
    "\n",
    "Probability is Just a Guide\n",
    "Probability does not tell us exactly what will happen, it is just a guide\n",
    "---\n",
    "**Example**: toss a coin 100 times, how many Heads will come up?\n",
    "\n",
    "Probability says that a head has ½ chance of coming up on each throw, so we can expect 50 Heads.\n",
    "\n",
    "But when we actually try it we might get 48 heads, or 55 heads ... or anything really, but in most cases it will be a number near 50.\n"
   ]
  },
  {
   "cell_type": "markdown",
   "metadata": {},
   "source": [
    "### Section 2: Problem 3 - Calculate the expected outcome of an event"
   ]
  },
  {
   "cell_type": "markdown",
   "metadata": {},
   "source": [
    "Probability theory tells us that if the probability of an event is **P** and we run this experiment **N** times then the expected outcome is **N*P**\n",
    "\n",
    "So if we flip a coin 4 times and the probability of getting a H is 1/2 then we expect to get 4 * 1/2 = 2 H\n",
    "\n",
    "We are going to calculate how many heads (H) \n",
    "\n",
    "We are going to create an experiment where we flip a coin **N** times.  We will run this experiment many times and then calculate the number of heads we get.  We will compare this to the expected outcome from the formula.  Does theory follow reality?"
   ]
  },
  {
   "cell_type": "markdown",
   "metadata": {},
   "source": [
    "### Section 3: Solution Strategy"
   ]
  },
  {
   "cell_type": "markdown",
   "metadata": {},
   "source": [
    "Think about some of the things we are going to need to solve this problem?  What \"tools\" do we have in our toolbox?\n",
    "\n",
    "+ loops\n",
    "+ if statements\n",
    "+ lists\n",
    "+ operators\n",
    "+ functions"
   ]
  },
  {
   "cell_type": "markdown",
   "metadata": {},
   "source": [
    "### How would you put together a solution?"
   ]
  },
  {
   "cell_type": "markdown",
   "metadata": {},
   "source": [
    "How would you solve this if you were doing it on paper?"
   ]
  },
  {
   "cell_type": "markdown",
   "metadata": {},
   "source": [
    "## Any Questions?\n",
    "---\n",
    "###### for any questions contact <hw_help@coolkidscodingschool.com>"
   ]
  }
 ],
 "metadata": {
  "kernelspec": {
   "display_name": "Python 3",
   "language": "python",
   "name": "python3"
  },
  "language_info": {
   "codemirror_mode": {
    "name": "ipython",
    "version": 3
   },
   "file_extension": ".py",
   "mimetype": "text/x-python",
   "name": "python",
   "nbconvert_exporter": "python",
   "pygments_lexer": "ipython3",
   "version": "3.6.4"
  }
 },
 "nbformat": 4,
 "nbformat_minor": 2
}
