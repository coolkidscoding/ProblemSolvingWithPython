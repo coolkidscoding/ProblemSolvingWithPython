{
 "cells": [
  {
   "cell_type": "markdown",
   "metadata": {},
   "source": [
    "![](images/ckcslogo.png)"
   ]
  },
  {
   "cell_type": "markdown",
   "metadata": {},
   "source": [
    "### [Cool Kids Coding School](http://www.coolkidscodingschool.com)\n",
    "### Course: Problem Solving With Python\n",
    "### Lesson 4: Problem #2 - Sieve Homework\n",
    "---"
   ]
  },
  {
   "cell_type": "markdown",
   "metadata": {},
   "source": [
    "### Question #1\n",
    "    "
   ]
  },
  {
   "cell_type": "code",
   "execution_count": null,
   "metadata": {},
   "outputs": [],
   "source": [
    "# Create a function that will check whether a number is Prime by doing a repeated division trial.\n",
    "\n",
    "# your function should be called\n",
    "\n",
    "def IsPrime(value_):\n",
    "    # this function currently returns false \n",
    "    # for all cases, you will add your code \n",
    "    # here to fix this\n",
    "    \n",
    "    # hint: create a loop using the range function\n",
    "    # that will try to divide the number passed into the \n",
    "    # function.  If any number divides the number passed \n",
    "    # in evenly then this number is not a prime and \n",
    "    # you should return false otherwise return true\n",
    "    \n",
    "    return False\n",
    "\n",
    "for elt in range(2, 100):\n",
    "    print(elt, ' IsPrime? ', IsPrime(elt))\n",
    "    "
   ]
  },
  {
   "cell_type": "markdown",
   "metadata": {},
   "source": [
    "## Any Questions?\n",
    "---\n",
    "###### for any questions contact <hw_help@coolkidscodingschool.com>"
   ]
  }
 ],
 "metadata": {
  "kernelspec": {
   "display_name": "Python 3",
   "language": "python",
   "name": "python3"
  },
  "language_info": {
   "codemirror_mode": {
    "name": "ipython",
    "version": 3
   },
   "file_extension": ".py",
   "mimetype": "text/x-python",
   "name": "python",
   "nbconvert_exporter": "python",
   "pygments_lexer": "ipython3",
   "version": "3.6.4"
  }
 },
 "nbformat": 4,
 "nbformat_minor": 2
}
