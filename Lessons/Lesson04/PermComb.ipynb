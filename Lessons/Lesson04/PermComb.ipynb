{
 "cells": [
  {
   "cell_type": "markdown",
   "metadata": {},
   "source": [
    "<div>\n",
    "\n",
    "<p>\n",
    "<img align=left src=\"images/ckcslogo.png\">\n",
    "</p>\n",
    "\n",
    "---\n",
    "\n",
    "<p>\n",
    "<H1 align=left><a href=\"http://www.coolkidscodingschool.com\">Cool Kids Coding School</a></H1>\n",
    "<H2 align=left>Course: <strong>Problem Solving with Python</strong></H1>\n",
    "<H3 align=left>Lesson 4: <strong>Permutations and Combinations</strong></H3>\n",
    "</p>\n",
    "\n",
    "</div>\n",
    "\n",
    "---"
   ]
  },
  {
   "cell_type": "markdown",
   "metadata": {},
   "source": [
    "### Overview\n",
    "- Go over syllabus objectives for today\n",
    "- Review: What is a permutation?\n",
    "- Review: What is a combination?\n",
    "- Discuss today's problem\n",
    "- Discuss solution strategy\n",
    "- Review homework"
   ]
  },
  {
   "cell_type": "markdown",
   "metadata": {},
   "source": [
    "### Section 1: Permutations"
   ]
  },
  {
   "cell_type": "markdown",
   "metadata": {},
   "source": [
    "### 1.1 What is a Permutation?\n",
    "\n",
    "A permutation refers to the distinct way items from a collection of items can be arranged.  For instance, for the set consisting of the items {1,2,3} there are 6 permutations, namely \n",
    "\n",
    "{1,2,3}\n",
    "{1,3,2} \n",
    "{2,1,3} \n",
    "{2,3,1} \n",
    "{3,1,2} \n",
    "{3,2,1}\n",
    "\n",
    "In a permutation the order the items take matters!  \n",
    "\n",
    "Here is a problem to consider.  \n",
    "\n",
    "**If we have a classroom of 8 students and we want to give 3 awards for best performance (1st, 2nd, and 3rd place), how many different choices do we have?**\n",
    "\n",
    "Lets break this problem down, we have 3 awards to give out.  The 1st place award can go to any of the 8 students, the 2nd place award can go to any of the remaining 7 students and the 3rd place award can go to any of the remaining 6 students.  How many permutations does that give us?\n",
    "\n",
    "$8 \\cdot 7 \\cdot 6 $\n",
    "\n",
    "There are 336 different ways to distribute 3 awards to 8 students!\n",
    "\n",
    "Can we figure out a formula to calculate the number of different permutations?"
   ]
  },
  {
   "cell_type": "markdown",
   "metadata": {},
   "source": [
    "### 1.1.1 What is factorial?\n",
    "\n",
    "Before we figure out a generalized formula for this, we are going to discuss what a **factorial** is.  The formula we come up with will use factorials.  In math, factorial refers to the product of a series of consecutive natural numbers. Factorial notation is represented with the exclamation point. So when we ask for 4! (pronounced four-factorial) this is equal to:\n",
    "\n",
    "$4! = 4 \\cdot 3 \\cdot 2 \\cdot 1$\n",
    "\n",
    "That's it.  "
   ]
  },
  {
   "cell_type": "markdown",
   "metadata": {},
   "source": [
    "### 1.2 How do we calculate a formula for the number of permutations?\n",
    "\n",
    "We know that 8! factorial is:\n",
    "\n",
    "$8! = 8 \\cdot 7 \\cdot 6 \\cdot 5 \\cdot 4 \\cdot 3 \\cdot 2 \\cdot 1$\n",
    "\n",
    "Unfortunately, that does too much! We only want 8 · 7 · 6, as we discussed above. How can we “stop” the factorial at 5?\n",
    "\n",
    "This is where permutations get cool: notice how we want to get rid of 5 · 4 · 3 · 2 · 1. \n",
    "What’s another name for this? \n",
    "\n",
    "5 factorial!\n",
    "\n",
    "So, if we divide 8! by 5!, we get\n",
    "\n",
    "$\\frac{8!}{5!} = \\frac{8 \\cdot 7 \\cdot 6 \\cdot 5 \\cdot 4 \\cdot 3 \\cdot 2 \\cdot 1}{5 \\cdot 4 \\cdot 3 \\cdot 2 \\cdot 1} = 8 \\cdot 7 \\cdot 6$\n",
    "\n",
    "And why did we use the number 5? Because it was left over after we picked 3 medals from 8. So, a better way to write this would be:\n",
    "\n",
    "$\\displaystyle{\\frac{8!}{(8-3)!}}$\n",
    "\n",
    "where 8!/(8-3)! is just a fancy way of saying “Use the first 3 numbers of 8!”. If we have **n** items total and want to pick **k** in a certain order, we get:\n",
    "\n",
    "$\\displaystyle{\\frac{n!}{(n-k)!}}$\n",
    "\n",
    "And this is the fancy permutation formula: You have **n** items and want to find the number of ways **k** items can be ordered:\n",
    "\n",
    "\n",
    "$\\displaystyle{P(n,k) = \\frac{n!}{(n-k)!}}$"
   ]
  },
  {
   "cell_type": "markdown",
   "metadata": {},
   "source": [
    "### Section 2: Combinations"
   ]
  },
  {
   "cell_type": "markdown",
   "metadata": {},
   "source": [
    "### 2.1 What are combinations?\n",
    "\n",
    "Combinations are easy to think of. **Order doesn’t matter**. You can mix it up and it looks the same. Let’s say I want to give everyone the same medal.  I don't want to distinguish between 1st, 2nd, and 3rd.\n",
    "\n",
    "How many ways can I give 3 medals to 8 people?\n",
    "\n",
    "Well, in this case, the order we pick people doesn’t matter. If I give a medal to Alice, Bob and then Charlie, it’s the same as giving to Charlie, Alice and then Bob.\n",
    "\n",
    "This raises an interesting point — we’ve got some redundancies here. Alice Bob Charlie = Charlie Bob Alice. For a moment, let’s just figure out how many ways we can rearrange 3 people.\n",
    "\n",
    "Well, we have 3 choices for the first person, 2 for the second, and only 1 for the last. So we have 3 · 2 · 1 ways to re-arrange 3 people.\n",
    "\n",
    "Wait a minute… this is looking a bit like a permutation!\n",
    "\n",
    "It does, if you have N people and you want to know how many arrangements there are for all of them, it’s just N factorial or N!\n",
    "\n",
    "So, if we have 3 medals to give away, there are 3! or 6 variations for every choice we pick. If we want to figure out how many combinations we have, we just create all the permutations and divide by all the redundancies. In our case, we get 336 permutations (from above), and we divide by the 6 redundancies for each permutation and get 336/6 = 56.\n",
    "\n",
    "The general formula is\n",
    "\n",
    "$\\displaystyle{C(n,k) = \\frac{P(n,k)}{k!}}$\n",
    "\n",
    "which means “Find all the ways to pick k people from n, and divide by the k! variants”. Writing this out, we get our combination formula, or the number of ways to combine k items from a set of n:\n",
    "\n",
    "$\\displaystyle{C(n,k) = \\frac{n!}{(n-k)!k!}}$"
   ]
  },
  {
   "cell_type": "markdown",
   "metadata": {},
   "source": [
    "### Section 3: Problem 4 - Lotteries"
   ]
  },
  {
   "cell_type": "markdown",
   "metadata": {},
   "source": [
    "Lotteries were you choose **k** numbers from a set of **n** numbers is an exercise in calculating combinations.  We are going to calculate the number of combinations from a given set.  We are then going to calculate the number of combinations that our formula says we should have by creating a factorial function and finally we will compare the two.  They should be equal"
   ]
  },
  {
   "cell_type": "markdown",
   "metadata": {},
   "source": [
    "### Section 4: Solution Strategy"
   ]
  },
  {
   "cell_type": "markdown",
   "metadata": {},
   "source": [
    "Think about some of the things we are going to need to solve this problem?  What \"tools\" do we have in our toolbox?\n",
    "\n",
    "+ loops\n",
    "+ if statements\n",
    "+ operators\n",
    "+ functions"
   ]
  },
  {
   "cell_type": "markdown",
   "metadata": {},
   "source": [
    "### Section 5: How would you put together a solution?"
   ]
  },
  {
   "cell_type": "markdown",
   "metadata": {},
   "source": [
    "Can you describe the solution strategy in words or on paper?  Tell me how you would start coding it?"
   ]
  },
  {
   "cell_type": "markdown",
   "metadata": {},
   "source": [
    "## Any Questions?\n",
    "---\n",
    "###### for any questions contact <hw_help@coolkidscodingschool.com>"
   ]
  }
 ],
 "metadata": {
  "kernelspec": {
   "display_name": "Python 3",
   "language": "python",
   "name": "python3"
  },
  "language_info": {
   "codemirror_mode": {
    "name": "ipython",
    "version": 3
   },
   "file_extension": ".py",
   "mimetype": "text/x-python",
   "name": "python",
   "nbconvert_exporter": "python",
   "pygments_lexer": "ipython3",
   "version": "3.6.5"
  }
 },
 "nbformat": 4,
 "nbformat_minor": 2
}