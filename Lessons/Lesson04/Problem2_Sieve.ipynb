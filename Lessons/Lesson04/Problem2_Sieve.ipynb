{
 "cells": [
  {
   "cell_type": "markdown",
   "metadata": {},
   "source": [
    "![](images/ckcslogo.png)"
   ]
  },
  {
   "cell_type": "markdown",
   "metadata": {},
   "source": [
    "### [Cool Kids Coding School](http://www.coolkidscodingschool.com)\n",
    "### Course: Problem Solving With Python\n",
    "### Lesson 3: Problem #2 - Sieve of Eratosthenes\n",
    "---"
   ]
  },
  {
   "cell_type": "markdown",
   "metadata": {},
   "source": [
    "### Overview\n",
    "- Go over syllabus objectives for today\n",
    "- Review: Prime Numbers\n",
    "- Discuss today's problem\n",
    "- Discuss solution strategy\n",
    "- Review homework"
   ]
  },
  {
   "cell_type": "markdown",
   "metadata": {},
   "source": [
    "### Section 1: Prime Numbers"
   ]
  },
  {
   "cell_type": "markdown",
   "metadata": {},
   "source": [
    "### 1.1 What is a Prime Number?\n",
    "\n",
    "A prime number (or a prime) is a natural number greater than 1 that cannot be formed by multiplying two smaller natural numbers. A natural number greater than 1 that is not prime is called a composite number. For example, 5 is prime because the only ways of writing it as a product, 1 × 5 or 5 × 1, involve 5 itself. However, 6 is composite because it is the product of two numbers (2 × 3) that are both smaller than 6. Primes are central in number theory because of the fundamental theorem of arithmetic: every natural number greater than 1 is either a prime itself or can be factorized as a product of primes that is unique up to their order. \n",
    "\n",
    "As of December 2018 the largest known prime number has 24,862,048 decimal digits. "
   ]
  },
  {
   "cell_type": "markdown",
   "metadata": {},
   "source": [
    "### 1.2 How do we identify prime numbers?\n",
    "\n",
    "In mathematics, the sieve of Eratosthenes is a simple, ancient algorithm for finding all prime numbers up to any given limit.\n",
    "\n",
    "It does so by iteratively marking as composite (i.e., not prime) the multiples of each prime, starting with the first prime number, 2. \n",
    "\n",
    "The earliest known reference to the sieve (Ancient Greek: κόσκινον Ἐρατοσθένους, kóskinon Eratosthénous) is in Nicomachus of Gerasa's Introduction to Arithmetic, which describes it and attributes it to Eratosthenes of Cyrene, a Greek mathematician.\n",
    "\n",
    "![](images/eratosthenes.png)\n",
    "\n",
    "Example\n",
    "\n",
    "To find all the prime numbers less than or equal to 30, proceed as follows.\n",
    "\n",
    "First, generate a list of integers from 2 to 30:\n",
    "\n",
    " 2  3  4  5  6  7  8  9  10 11 12 13 14 15 16 17 18 19 20 21 22 23 24 25 26 27 28 29 30\n",
    "\n",
    "The first number in the list is 2; cross out every 2nd number in the list after 2 by counting up from 2 in increments of 2 (these will be all the multiples of 2 in the list):\n",
    "\n",
    " 2  3  x  5  x  7  x  9  x 11 x 13 x 15 x 17 x 19 x 21 x 23 x 25 x x x 29 x\n",
    "\n",
    "The next number in the list after 2 is 3; cross out every 3rd number in the list after 3 by counting up from 3 in increments of 3 (these will be all the multiples of 3 in the list):\n",
    "\n",
    " 2  3  x  5  x  7  x  x  x 11 x 13 x x x 17 x 19 x x x 23 x 25 x x x 29 x\n",
    "\n",
    "The next number not yet crossed out in the list after 3 is 5; cross out every 5th number in the list after 5 by counting up from 5 in increments of 5 (i.e. all the multiples of 5):\n",
    "\n",
    " 2  3  x  5  x  7  x  x  x 11 x 13 x x x 17 x 19 x x x 23 x x x x x 29 x\n",
    "\n",
    "The next number not yet crossed out in the list after 5 is 7; the next step would be to cross out every 7th number in the list after 7, but they are all already crossed out at this point, as these numbers (14, 21, 28) are also multiples of smaller primes because 7 × 7 is greater than 30. The numbers not crossed out at this point in the list are all the prime numbers below 30:\n",
    "\n",
    " 2  3     5     7           11    13          17    19          23                29\n"
   ]
  },
  {
   "cell_type": "markdown",
   "metadata": {},
   "source": [
    "### 1.3 Why is this special?"
   ]
  },
  {
   "cell_type": "markdown",
   "metadata": {},
   "source": [
    "That fact makes primes vitally important to communications. Most modern computer cryptography works by using the prime factors of large numbers. The large number that was used to encrypt a file can be publicly known and available, because the encryption works so only the prime factors of that large number can be used to decrypt it again. Though finding those factors is technically only a matter of time, it’s a matter of so much time that we say it cannot be done. **A modern super-computer could chew on a 256-bit factorization problem for longer than the current age of the universe, and still not get the answer**."
   ]
  },
  {
   "cell_type": "markdown",
   "metadata": {},
   "source": [
    "### Section 2: Problem 2 - Sieve of Eratosthenes"
   ]
  },
  {
   "cell_type": "markdown",
   "metadata": {},
   "source": [
    "Implement the **Sieve of Eratosthenes** to find the first 1000 prime numbers."
   ]
  },
  {
   "cell_type": "markdown",
   "metadata": {},
   "source": [
    "### Section 3: Solution Strategy"
   ]
  },
  {
   "cell_type": "markdown",
   "metadata": {},
   "source": [
    "Think about some of the things we are going to need to solve this problem?  What \"tools\" do we have in our toolbox?\n",
    "\n",
    "+ loops\n",
    "+ if statements\n",
    "+ lists\n",
    "+ operators"
   ]
  },
  {
   "cell_type": "markdown",
   "metadata": {},
   "source": [
    "### How would you put together a solution?"
   ]
  },
  {
   "cell_type": "markdown",
   "metadata": {},
   "source": [
    "How would you solve this if you were doing it on paper?"
   ]
  },
  {
   "cell_type": "markdown",
   "metadata": {},
   "source": [
    "## Any Questions?\n",
    "---\n",
    "###### for any questions contact <hw_help@coolkidscodingschool.com>"
   ]
  }
 ],
 "metadata": {
  "kernelspec": {
   "display_name": "Python 3",
   "language": "python",
   "name": "python3"
  },
  "language_info": {
   "codemirror_mode": {
    "name": "ipython",
    "version": 3
   },
   "file_extension": ".py",
   "mimetype": "text/x-python",
   "name": "python",
   "nbconvert_exporter": "python",
   "pygments_lexer": "ipython3",
   "version": "3.6.4"
  }
 },
 "nbformat": 4,
 "nbformat_minor": 2
}
