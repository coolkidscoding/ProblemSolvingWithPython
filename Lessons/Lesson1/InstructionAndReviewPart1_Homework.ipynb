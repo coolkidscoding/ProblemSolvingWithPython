{
 "cells": [
  {
   "cell_type": "markdown",
   "metadata": {},
   "source": [
    "![](images/ckcslogo.png)"
   ]
  },
  {
   "cell_type": "markdown",
   "metadata": {},
   "source": [
    "### [Cool Kids Coding School](http://www.coolkidscodingschool.com)\n",
    "### Course: Problem Solving With Python\n",
    "### Lesson 1: InstructionAndReview_Homework\n",
    "---"
   ]
  },
  {
   "cell_type": "markdown",
   "metadata": {},
   "source": [
    "### Question #1"
   ]
  },
  {
   "cell_type": "code",
   "execution_count": 9,
   "metadata": {},
   "outputs": [],
   "source": [
    "# Operators and Variables - Operators\n",
    "\n",
    "# Print the value of pi, pi is a built in value.  You can get it by importing math and then printing math.pi\n",
    "\n",
    "# Have Python calculate the value of pi divided by 3\n",
    "\n",
    "# Have Python calculate the value of pi times 2\n",
    "\n",
    "# Have Python calculate 2 to the 10th power\n",
    "\n",
    "# Have Python calculate the remainder of 126 divided by 32\n",
    "\n",
    "# Have Python calculate the length of 'Hello have a great day'\n",
    "\n",
    "# Have Python calculate the type of 123\n"
   ]
  },
  {
   "cell_type": "markdown",
   "metadata": {},
   "source": [
    "### Question #2"
   ]
  },
  {
   "cell_type": "code",
   "execution_count": 10,
   "metadata": {},
   "outputs": [],
   "source": [
    "# Operators and Variables - Variables\n",
    "\n",
    "# Give an example of 3 valid variable names, assign distinct values to these variables\n",
    "\n",
    "# Give an example of 3 invalid varaible names\n",
    "\n",
    "# Create 3 variables asign numeric values to them\n",
    "\n",
    "# What is the sum of these 3 variables together\n",
    "\n",
    "# What is the difference these 3 variables\n",
    "\n",
    "# What is the product of these 3 variables"
   ]
  },
  {
   "cell_type": "markdown",
   "metadata": {},
   "source": [
    "### Question #3"
   ]
  },
  {
   "cell_type": "code",
   "execution_count": 11,
   "metadata": {},
   "outputs": [],
   "source": [
    "# Data Structures - List\n",
    "# (1) create an empty list\n",
    "\n",
    "# (2) add three elements of different types to the list\n",
    "\n",
    "# (3) use python to figure out the length of the list\n",
    "\n",
    "# (4) add a 4th element to the list, any data type you want\n",
    "\n",
    "# (5) print the 1st element in the list\n",
    "\n",
    "# (7) print the 4th element in the list\n",
    "\n",
    "# (8) change the 5th element of the list to the value None\n",
    "\n",
    "# (9) Use python to figure out if the list has an element that is the integer 7"
   ]
  },
  {
   "cell_type": "markdown",
   "metadata": {},
   "source": [
    "### Question #4"
   ]
  },
  {
   "cell_type": "code",
   "execution_count": 12,
   "metadata": {},
   "outputs": [],
   "source": [
    "# Data Structures - Dictionary\n",
    "# (1) create an empty dictionary\n",
    "\n",
    "# (2) add five key:value pairs to the dictionary, use these keys 'key1', 'key2', 'key3', 'key4', 'key5'\n",
    "\n",
    "# (3) print the keys of the dictionary\n",
    "\n",
    "# (4) print the values of the dictionary\n",
    "\n",
    "# (5) use python to figure out if there exists a value in the dictionary with a key value of 'key3'\n",
    "\n",
    "# (6) use python to figure out if there exists a value in the dictionary with a key value of 'key7'\n",
    "\n",
    "# (7) change the element under key value 'key2' to None\n",
    "\n",
    "# (8) use python to figure out how many elements are in this dictionary\n"
   ]
  },
  {
   "cell_type": "markdown",
   "metadata": {},
   "source": [
    "## Any Questions?\n",
    "---\n",
    "###### for any questions contact <jimmy@coolkidscodingschool.com>"
   ]
  }
 ],
 "metadata": {
  "kernelspec": {
   "display_name": "Python 3",
   "language": "python",
   "name": "python3"
  },
  "language_info": {
   "codemirror_mode": {
    "name": "ipython",
    "version": 3
   },
   "file_extension": ".py",
   "mimetype": "text/x-python",
   "name": "python",
   "nbconvert_exporter": "python",
   "pygments_lexer": "ipython3",
   "version": "3.6.4"
  }
 },
 "nbformat": 4,
 "nbformat_minor": 2
}
