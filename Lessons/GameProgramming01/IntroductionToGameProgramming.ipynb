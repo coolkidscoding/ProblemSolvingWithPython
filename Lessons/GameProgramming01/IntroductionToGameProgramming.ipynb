{
 "cells": [
  {
   "cell_type": "markdown",
   "metadata": {},
   "source": [
    "![](images/ckcslogo.png)"
   ]
  },
  {
   "cell_type": "markdown",
   "metadata": {},
   "source": [
    "### [Cool Kids Coding School](http://www.coolkidscodingschool.com)\n",
    "### Course: Game Programming\n",
    "### Lesson 1: Introduction to Game Programming\n",
    "---"
   ]
  },
  {
   "cell_type": "markdown",
   "metadata": {},
   "source": [
    "### Today's Lesson\n",
    "---\n",
    "+ Install necessary software and tools on laptop\n",
    "    + Miniconda (python interpreter)\n",
    "    + Visual Studio Code\n",
    "    + pygame package\n",
    "+ Discuss how we are going to use these new tools\n",
    "+ Discuss the game design we are going to build\n",
    "+ Discuss the structure of a typical game\n",
    "+ Create the skeleton of our game"
   ]
  },
  {
   "cell_type": "markdown",
   "metadata": {},
   "source": [
    "#### 1.0 Install necessary software and tools\n",
    "\n",
    "We are going to be installing three things on our laptops. \n",
    "\n",
    "##### Miniconda\n",
    "Miniconda is a packaged up version of python.  It allows us to manage package management.\n",
    "Students should bring up a browser and navigate to https://docs.conda.io/en/latest/miniconda.html\n",
    "\n",
    "Download the link that represents your laptop configuration.\n",
    "\n",
    "##### Visual Studio Code\n",
    "VS Code is a python editor.  We are going to use it to write and run code.\n",
    "Students should bring up a browser and navigate to https://code.visualstudio.com/\n",
    "\n",
    "Download the link that represents your laptop configuration.\n",
    "\n",
    "##### Pygame \n",
    "Pygame is a python package that gives us the functionality that we need to develop our game.\n",
    "Students should bring up an anaconda terminal and enter the following\n",
    "\n",
    "$ pip install pygame"
   ]
  },
  {
   "cell_type": "markdown",
   "metadata": {},
   "source": [
    "#### 2.0 Discuss how we are going to use these new tools\n",
    "\n",
    "**_Miniconda_** is going to be the python engine that we use to run our code.  It will also allow us to load any other packages we need for our development.  \n",
    "\n",
    "**_Visual Studio Code_** also known as _VS Code_ is an editor that allows us to run code.  We will be able to integrate the python engine in Miniconda and run our code in VS Code."
   ]
  },
  {
   "cell_type": "markdown",
   "metadata": {},
   "source": [
    "#### 3.0 Discuss the game design we are going to build\n",
    "\n",
    "We are going to build an arcade style game.  We will be able to create players and enemies that attack a player.  More will be discussed in class.\n",
    "\n",
    "#### 4.0 Discuss the structure of a typical game\n",
    "\n",
    "A typical game has what is called a **Game Loop**.  Every cycle of the game loop is called a **frame**.  The quicker your program can do things in each cycle the faster your game will run.  This loop keeps going on forever until the user exits the game, thats why when you look at a game it's always playing.\n",
    "\n",
    "In a typical game the game loop consists of the following parts\n",
    "+ Process user input\n",
    "+ Update the state of all game objects\n",
    "+ Update the display\n",
    "+ Maintain the speed of the game"
   ]
  },
  {
   "cell_type": "markdown",
   "metadata": {},
   "source": [
    "#### 5.0 Create the skeleton of our game\n",
    "\n",
    "```python\n",
    "# pygame skeleton \n",
    "import pygame\n",
    "import random\n",
    "\n",
    "WIDTH = 750\n",
    "HEIGHT = 550\n",
    "\n",
    "FPS = 30\n",
    "\n",
    "# colors\n",
    "WHITE = (255,255,255)\n",
    "BLACK = (0,0,0)\n",
    "RED = (255,0,0)\n",
    "GREEN = (0,255,0)\n",
    "BLUE = (0,0,255)\n",
    "\n",
    "pygame.init()\n",
    "#pygame.mixer.init()\n",
    "\n",
    "screen = pygame.display.set_mode((WIDTH, HEIGHT))\n",
    "pygame.display.set_caption('My Game')\n",
    "clock = pygame.time.Clock()\n",
    "\n",
    "running = True\n",
    "# game loop\n",
    "while running:\n",
    "    # keep this running at the right speed\n",
    "    clock.tick(FPS)\n",
    "    \n",
    "    # process input\n",
    "    for event in pygame.event.get():\n",
    "        if event.type == pygame.QUIT:\n",
    "            running = False\n",
    "\n",
    "    # update\n",
    "\n",
    "    # render\n",
    "    screen.fill(BLACK)\n",
    "\n",
    "    # always do this last\n",
    "    pygame.display.flip()\n",
    "\n",
    "pygame.quit()\n",
    "```"
   ]
  },
  {
   "cell_type": "markdown",
   "metadata": {},
   "source": [
    "## Any Questions?\n",
    "---\n",
    "###### for any questions contact <hw_help@coolkidscodingschool.com>"
   ]
  }
 ],
 "metadata": {
  "kernelspec": {
   "display_name": "Python 3",
   "language": "python",
   "name": "python3"
  },
  "language_info": {
   "codemirror_mode": {
    "name": "ipython",
    "version": 3
   },
   "file_extension": ".py",
   "mimetype": "text/x-python",
   "name": "python",
   "nbconvert_exporter": "python",
   "pygments_lexer": "ipython3",
   "version": "3.7.3"
  }
 },
 "nbformat": 4,
 "nbformat_minor": 2
}
